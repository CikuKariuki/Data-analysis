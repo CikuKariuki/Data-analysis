{
 "cells": [
  {
   "cell_type": "code",
   "execution_count": null,
   "metadata": {},
   "outputs": [],
   "source": []
  },
  {
   "cell_type": "code",
   "execution_count": 1,
   "metadata": {},
   "outputs": [],
   "source": [
    "\"\"\"\n",
    "NumPy can perform complex operations without the need for \n",
    "python for loops. Consider a NumPy arra of a million integers.\n",
    "\"\"\"\n",
    "\n",
    "import numpy as np"
   ]
  },
  {
   "cell_type": "code",
   "execution_count": 3,
   "metadata": {},
   "outputs": [],
   "source": [
    "my_arr = np.arange(1000000)"
   ]
  },
  {
   "cell_type": "code",
   "execution_count": 4,
   "metadata": {},
   "outputs": [
    {
     "data": {
      "text/plain": [
       "array([     0,      1,      2, ..., 999997, 999998, 999999])"
      ]
     },
     "execution_count": 4,
     "metadata": {},
     "output_type": "execute_result"
    }
   ],
   "source": [
    "my_arr"
   ]
  },
  {
   "cell_type": "code",
   "execution_count": 5,
   "metadata": {},
   "outputs": [],
   "source": [
    "my_list = list(range(1000000))"
   ]
  },
  {
   "cell_type": "code",
   "execution_count": 9,
   "metadata": {},
   "outputs": [
    {
     "name": "stdout",
     "output_type": "stream",
     "text": [
      "CPU times: user 8 µs, sys: 1 µs, total: 9 µs\n",
      "Wall time: 16.7 µs\n"
     ]
    }
   ],
   "source": [
    "%time\n",
    "for _ in range(10):\n",
    "    my_arr2 = my_arr * 2"
   ]
  },
  {
   "cell_type": "code",
   "execution_count": 14,
   "metadata": {},
   "outputs": [
    {
     "name": "stdout",
     "output_type": "stream",
     "text": [
      "CPU times: user 3 µs, sys: 0 ns, total: 3 µs\n",
      "Wall time: 8.34 µs\n"
     ]
    }
   ],
   "source": [
    "%time\n",
    "for _ in range(10):\n",
    "    my_list2 = [x * 2 for x in my_list]"
   ]
  },
  {
   "cell_type": "code",
   "execution_count": 15,
   "metadata": {},
   "outputs": [
    {
     "name": "stdout",
     "output_type": "stream",
     "text": [
      "CPU times: user 5 µs, sys: 1e+03 ns, total: 6 µs\n",
      "Wall time: 11.7 µs\n"
     ]
    }
   ],
   "source": [
    "%time\n",
    "for i in my_arr:\n",
    "    myarr = i * 2"
   ]
  },
  {
   "cell_type": "code",
   "execution_count": 16,
   "metadata": {},
   "outputs": [
    {
     "name": "stdout",
     "output_type": "stream",
     "text": [
      "CPU times: user 4 µs, sys: 1 µs, total: 5 µs\n",
      "Wall time: 10 µs\n"
     ]
    }
   ],
   "source": [
    "%time\n",
    "for i in my_list:\n",
    "    mylist = i *2"
   ]
  },
  {
   "cell_type": "code",
   "execution_count": 17,
   "metadata": {},
   "outputs": [],
   "source": [
    "# array in numpy are matrices\n",
    "# e.g to generate an array with 2 rows and 3 columns:\n",
    "data = np.random.randn(2,3)"
   ]
  },
  {
   "cell_type": "code",
   "execution_count": 18,
   "metadata": {},
   "outputs": [
    {
     "data": {
      "text/plain": [
       "array([[-0.63937811,  2.10898256, -1.56169843],\n",
       "       [ 1.67162108,  1.41387899, -0.69835837]])"
      ]
     },
     "execution_count": 18,
     "metadata": {},
     "output_type": "execute_result"
    }
   ],
   "source": [
    "data"
   ]
  },
  {
   "cell_type": "code",
   "execution_count": 24,
   "metadata": {},
   "outputs": [
    {
     "data": {
      "text/plain": [
       "array([[ -6.3937811 ,  21.08982563, -15.61698429],\n",
       "       [ 16.71621078,  14.13878992,  -6.98358371]])"
      ]
     },
     "execution_count": 24,
     "metadata": {},
     "output_type": "execute_result"
    }
   ],
   "source": [
    "data * 10"
   ]
  },
  {
   "cell_type": "code",
   "execution_count": 25,
   "metadata": {},
   "outputs": [
    {
     "data": {
      "text/plain": [
       "array([[-1.27875622,  4.21796513, -3.12339686],\n",
       "       [ 3.34324216,  2.82775798, -1.39671674]])"
      ]
     },
     "execution_count": 25,
     "metadata": {},
     "output_type": "execute_result"
    }
   ],
   "source": [
    "data + data"
   ]
  },
  {
   "cell_type": "code",
   "execution_count": 29,
   "metadata": {},
   "outputs": [
    {
     "data": {
      "text/plain": [
       "array([[-0.63937811,  2.10898256, -1.56169843],\n",
       "       [ 1.67162108,  1.41387899, -0.69835837]])"
      ]
     },
     "execution_count": 29,
     "metadata": {},
     "output_type": "execute_result"
    }
   ],
   "source": [
    "data"
   ]
  },
  {
   "cell_type": "code",
   "execution_count": 32,
   "metadata": {},
   "outputs": [
    {
     "data": {
      "text/plain": [
       "2.82775798"
      ]
     },
     "execution_count": 32,
     "metadata": {},
     "output_type": "execute_result"
    }
   ],
   "source": [
    "1.41387899 + 1.41387899"
   ]
  },
  {
   "cell_type": "code",
   "execution_count": 33,
   "metadata": {},
   "outputs": [],
   "source": [
    "arr1 = [1,2,3,4]\n",
    "arr2 = [5,5,5]\n",
    "arr1.extend(arr2)"
   ]
  },
  {
   "cell_type": "code",
   "execution_count": 34,
   "metadata": {},
   "outputs": [
    {
     "data": {
      "text/plain": [
       "[1, 2, 3, 4, 5, 5, 5]"
      ]
     },
     "execution_count": 34,
     "metadata": {},
     "output_type": "execute_result"
    }
   ],
   "source": [
    "arr1"
   ]
  },
  {
   "cell_type": "code",
   "execution_count": 40,
   "metadata": {},
   "outputs": [],
   "source": [
    "arr1 = [[1,2,3,4],[5,6,7,8]]"
   ]
  },
  {
   "cell_type": "code",
   "execution_count": 41,
   "metadata": {},
   "outputs": [],
   "source": [
    "arr2 = np.array(arr1)"
   ]
  },
  {
   "cell_type": "code",
   "execution_count": 42,
   "metadata": {},
   "outputs": [
    {
     "data": {
      "text/plain": [
       "array([[1, 2, 3, 4],\n",
       "       [5, 6, 7, 8]])"
      ]
     },
     "execution_count": 42,
     "metadata": {},
     "output_type": "execute_result"
    }
   ],
   "source": [
    "arr2"
   ]
  },
  {
   "cell_type": "code",
   "execution_count": 43,
   "metadata": {},
   "outputs": [
    {
     "data": {
      "text/plain": [
       "(2, 4)"
      ]
     },
     "execution_count": 43,
     "metadata": {},
     "output_type": "execute_result"
    }
   ],
   "source": [
    "arr2.shape"
   ]
  },
  {
   "cell_type": "code",
   "execution_count": 44,
   "metadata": {},
   "outputs": [
    {
     "data": {
      "text/plain": [
       "2"
      ]
     },
     "execution_count": 44,
     "metadata": {},
     "output_type": "execute_result"
    }
   ],
   "source": [
    "arr2.ndim"
   ]
  },
  {
   "cell_type": "code",
   "execution_count": 45,
   "metadata": {},
   "outputs": [
    {
     "ename": "AttributeError",
     "evalue": "'list' object has no attribute 'dtype'",
     "output_type": "error",
     "traceback": [
      "\u001b[0;31m--------------------------------------------------------------------------\u001b[0m",
      "\u001b[0;31mAttributeError\u001b[0m                           Traceback (most recent call last)",
      "\u001b[0;32m<ipython-input-45-e51c550a93f0>\u001b[0m in \u001b[0;36m<module>\u001b[0;34m\u001b[0m\n\u001b[0;32m----> 1\u001b[0;31m \u001b[0marr1\u001b[0m\u001b[0;34m.\u001b[0m\u001b[0mdtype\u001b[0m\u001b[0;34m\u001b[0m\u001b[0;34m\u001b[0m\u001b[0m\n\u001b[0m",
      "\u001b[0;31mAttributeError\u001b[0m: 'list' object has no attribute 'dtype'"
     ]
    }
   ],
   "source": [
    "arr1.dtype"
   ]
  },
  {
   "cell_type": "code",
   "execution_count": 46,
   "metadata": {},
   "outputs": [
    {
     "data": {
      "text/plain": [
       "dtype('int64')"
      ]
     },
     "execution_count": 46,
     "metadata": {},
     "output_type": "execute_result"
    }
   ],
   "source": [
    "arr2.dtype"
   ]
  },
  {
   "cell_type": "code",
   "execution_count": 47,
   "metadata": {},
   "outputs": [
    {
     "data": {
      "text/plain": [
       "dtype('float64')"
      ]
     },
     "execution_count": 47,
     "metadata": {},
     "output_type": "execute_result"
    }
   ],
   "source": [
    "data.dtype"
   ]
  },
  {
   "cell_type": "code",
   "execution_count": 48,
   "metadata": {},
   "outputs": [
    {
     "data": {
      "text/plain": [
       "array([1., 1., 1., 1., 1.])"
      ]
     },
     "execution_count": 48,
     "metadata": {},
     "output_type": "execute_result"
    }
   ],
   "source": [
    "np.ones(5)"
   ]
  },
  {
   "cell_type": "code",
   "execution_count": 59,
   "metadata": {},
   "outputs": [
    {
     "data": {
      "text/plain": [
       "array([[[4.65321119e-310, 0.00000000e+000],\n",
       "        [0.00000000e+000, 0.00000000e+000],\n",
       "        [0.00000000e+000, 0.00000000e+000]],\n",
       "\n",
       "       [[0.00000000e+000, 0.00000000e+000],\n",
       "        [0.00000000e+000, 0.00000000e+000],\n",
       "        [0.00000000e+000, 0.00000000e+000]]])"
      ]
     },
     "execution_count": 59,
     "metadata": {},
     "output_type": "execute_result"
    }
   ],
   "source": [
    "np.empty((2,3,2))"
   ]
  },
  {
   "cell_type": "code",
   "execution_count": 60,
   "metadata": {},
   "outputs": [
    {
     "data": {
      "text/plain": [
       "1.0"
      ]
     },
     "execution_count": 60,
     "metadata": {},
     "output_type": "execute_result"
    }
   ],
   "source": [
    "1**0.5"
   ]
  },
  {
   "cell_type": "code",
   "execution_count": 61,
   "metadata": {},
   "outputs": [
    {
     "data": {
      "text/plain": [
       "1.4142135623730951"
      ]
     },
     "execution_count": 61,
     "metadata": {},
     "output_type": "execute_result"
    }
   ],
   "source": [
    "2**.5"
   ]
  },
  {
   "cell_type": "code",
   "execution_count": 62,
   "metadata": {},
   "outputs": [
    {
     "data": {
      "text/plain": [
       "2.0"
      ]
     },
     "execution_count": 62,
     "metadata": {},
     "output_type": "execute_result"
    }
   ],
   "source": [
    "4**1/2"
   ]
  },
  {
   "cell_type": "code",
   "execution_count": 63,
   "metadata": {},
   "outputs": [
    {
     "data": {
      "text/plain": [
       "3.7416573867739413"
      ]
     },
     "execution_count": 63,
     "metadata": {},
     "output_type": "execute_result"
    }
   ],
   "source": [
    "14**0.5"
   ]
  },
  {
   "cell_type": "code",
   "execution_count": 64,
   "metadata": {},
   "outputs": [
    {
     "data": {
      "text/plain": [
       "4.0"
      ]
     },
     "execution_count": 64,
     "metadata": {},
     "output_type": "execute_result"
    }
   ],
   "source": [
    "16**0.5"
   ]
  },
  {
   "cell_type": "code",
   "execution_count": 65,
   "metadata": {},
   "outputs": [
    {
     "data": {
      "text/plain": [
       "13.5"
      ]
     },
     "execution_count": 65,
     "metadata": {},
     "output_type": "execute_result"
    }
   ],
   "source": [
    "27*.5"
   ]
  },
  {
   "cell_type": "code",
   "execution_count": 66,
   "metadata": {},
   "outputs": [
    {
     "data": {
      "text/plain": [
       "12.0"
      ]
     },
     "execution_count": 66,
     "metadata": {},
     "output_type": "execute_result"
    }
   ],
   "source": [
    "np.sqrt(144)"
   ]
  },
  {
   "cell_type": "code",
   "execution_count": 67,
   "metadata": {},
   "outputs": [
    {
     "data": {
      "text/plain": [
       "3.7416573867739413"
      ]
     },
     "execution_count": 67,
     "metadata": {},
     "output_type": "execute_result"
    }
   ],
   "source": [
    "14**.5"
   ]
  },
  {
   "cell_type": "code",
   "execution_count": 68,
   "metadata": {},
   "outputs": [
    {
     "data": {
      "text/plain": [
       "12.0"
      ]
     },
     "execution_count": 68,
     "metadata": {},
     "output_type": "execute_result"
    }
   ],
   "source": [
    "144**.5"
   ]
  },
  {
   "cell_type": "code",
   "execution_count": 1,
   "metadata": {},
   "outputs": [
    {
     "data": {
      "text/plain": [
       "17"
      ]
     },
     "execution_count": 1,
     "metadata": {},
     "output_type": "execute_result"
    }
   ],
   "source": [
    "94-77"
   ]
  },
  {
   "cell_type": "code",
   "execution_count": 2,
   "metadata": {},
   "outputs": [
    {
     "data": {
      "text/plain": [
       "9"
      ]
     },
     "execution_count": 2,
     "metadata": {},
     "output_type": "execute_result"
    }
   ],
   "source": [
    "26-17"
   ]
  },
  {
   "cell_type": "code",
   "execution_count": 3,
   "metadata": {},
   "outputs": [
    {
     "data": {
      "text/plain": [
       "13"
      ]
     },
     "execution_count": 3,
     "metadata": {},
     "output_type": "execute_result"
    }
   ],
   "source": [
    "30-17"
   ]
  },
  {
   "cell_type": "code",
   "execution_count": 4,
   "metadata": {},
   "outputs": [
    {
     "data": {
      "text/plain": [
       "107"
      ]
     },
     "execution_count": 4,
     "metadata": {},
     "output_type": "execute_result"
    }
   ],
   "source": [
    "94+13"
   ]
  },
  {
   "cell_type": "code",
   "execution_count": 5,
   "metadata": {},
   "outputs": [
    {
     "ename": "NameError",
     "evalue": "name 'np' is not defined",
     "output_type": "error",
     "traceback": [
      "\u001b[0;31m---------------------------------------------------------------------------\u001b[0m",
      "\u001b[0;31mNameError\u001b[0m                                 Traceback (most recent call last)",
      "\u001b[0;32m<ipython-input-5-76ffdaa0d514>\u001b[0m in \u001b[0;36m<module>\u001b[0;34m\u001b[0m\n\u001b[0;32m----> 1\u001b[0;31m \u001b[0marr\u001b[0m \u001b[0;34m=\u001b[0m \u001b[0mnp\u001b[0m\u001b[0;34m.\u001b[0m\u001b[0marange\u001b[0m\u001b[0;34m(\u001b[0m\u001b[0;36m9\u001b[0m\u001b[0;34m)\u001b[0m\u001b[0;34m\u001b[0m\u001b[0;34m\u001b[0m\u001b[0m\n\u001b[0m",
      "\u001b[0;31mNameError\u001b[0m: name 'np' is not defined"
     ]
    }
   ],
   "source": [
    "arr = np.arange(9)"
   ]
  },
  {
   "cell_type": "code",
   "execution_count": 6,
   "metadata": {},
   "outputs": [],
   "source": [
    "import numpy as np"
   ]
  },
  {
   "cell_type": "code",
   "execution_count": 8,
   "metadata": {},
   "outputs": [],
   "source": [
    "array = np.arange(9)"
   ]
  },
  {
   "cell_type": "code",
   "execution_count": 10,
   "metadata": {},
   "outputs": [
    {
     "data": {
      "text/plain": [
       "array([3, 4])"
      ]
     },
     "execution_count": 10,
     "metadata": {},
     "output_type": "execute_result"
    }
   ],
   "source": [
    "array[3:5]"
   ]
  },
  {
   "cell_type": "code",
   "execution_count": 11,
   "metadata": {},
   "outputs": [],
   "source": [
    "array[3:5] = 12"
   ]
  },
  {
   "cell_type": "code",
   "execution_count": 12,
   "metadata": {},
   "outputs": [
    {
     "data": {
      "text/plain": [
       "array([12, 12])"
      ]
     },
     "execution_count": 12,
     "metadata": {},
     "output_type": "execute_result"
    }
   ],
   "source": [
    "array[3:5]"
   ]
  },
  {
   "cell_type": "code",
   "execution_count": 13,
   "metadata": {},
   "outputs": [
    {
     "data": {
      "text/plain": [
       "array([ 0,  1,  2, 12, 12,  5,  6,  7,  8])"
      ]
     },
     "execution_count": 13,
     "metadata": {},
     "output_type": "execute_result"
    }
   ],
   "source": [
    "array"
   ]
  },
  {
   "cell_type": "code",
   "execution_count": 17,
   "metadata": {},
   "outputs": [],
   "source": [
    "array_slice = array[3:5]"
   ]
  },
  {
   "cell_type": "code",
   "execution_count": 18,
   "metadata": {},
   "outputs": [
    {
     "data": {
      "text/plain": [
       "array([12, 12])"
      ]
     },
     "execution_count": 18,
     "metadata": {},
     "output_type": "execute_result"
    }
   ],
   "source": [
    "array_slice"
   ]
  },
  {
   "cell_type": "code",
   "execution_count": 19,
   "metadata": {},
   "outputs": [],
   "source": [
    "array_slice[1]=40"
   ]
  },
  {
   "cell_type": "code",
   "execution_count": 20,
   "metadata": {},
   "outputs": [
    {
     "data": {
      "text/plain": [
       "array([ 0,  1,  2, 12, 40,  5,  6,  7,  8])"
      ]
     },
     "execution_count": 20,
     "metadata": {},
     "output_type": "execute_result"
    }
   ],
   "source": [
    "array"
   ]
  },
  {
   "cell_type": "code",
   "execution_count": 33,
   "metadata": {},
   "outputs": [],
   "source": [
    "arra = np.array([[[1,2,3],[10,2,3]],[[21,2,3],[31,2,3]]])"
   ]
  },
  {
   "cell_type": "code",
   "execution_count": 34,
   "metadata": {},
   "outputs": [
    {
     "data": {
      "text/plain": [
       "(2, 2, 3)"
      ]
     },
     "execution_count": 34,
     "metadata": {},
     "output_type": "execute_result"
    }
   ],
   "source": [
    "arra.shape"
   ]
  },
  {
   "cell_type": "code",
   "execution_count": 37,
   "metadata": {},
   "outputs": [
    {
     "data": {
      "text/plain": [
       "21"
      ]
     },
     "execution_count": 37,
     "metadata": {},
     "output_type": "execute_result"
    }
   ],
   "source": [
    "arra[1][0][0]"
   ]
  },
  {
   "cell_type": "code",
   "execution_count": 38,
   "metadata": {},
   "outputs": [
    {
     "data": {
      "text/plain": [
       "3"
      ]
     },
     "execution_count": 38,
     "metadata": {},
     "output_type": "execute_result"
    }
   ],
   "source": [
    "arra[0,1,2]"
   ]
  },
  {
   "cell_type": "code",
   "execution_count": 39,
   "metadata": {},
   "outputs": [
    {
     "data": {
      "text/plain": [
       "array([[[ 1,  2,  3],\n",
       "        [10,  2,  3]],\n",
       "\n",
       "       [[21,  2,  3],\n",
       "        [31,  2,  3]]])"
      ]
     },
     "execution_count": 39,
     "metadata": {},
     "output_type": "execute_result"
    }
   ],
   "source": [
    "arra"
   ]
  },
  {
   "cell_type": "code",
   "execution_count": 40,
   "metadata": {},
   "outputs": [
    {
     "data": {
      "text/plain": [
       "array([ 0,  1,  2, 12, 40,  5,  6,  7,  8])"
      ]
     },
     "execution_count": 40,
     "metadata": {},
     "output_type": "execute_result"
    }
   ],
   "source": [
    "array"
   ]
  },
  {
   "cell_type": "code",
   "execution_count": 41,
   "metadata": {},
   "outputs": [
    {
     "name": "stdout",
     "output_type": "stream",
     "text": [
      "Variable      Type       Data/Info\n",
      "----------------------------------\n",
      "arra          ndarray    2x2x3: 12 elems, type `int64`, 96 bytes\n",
      "array         ndarray    9: 9 elems, type `int64`, 72 bytes\n",
      "array_slice   ndarray    2: 2 elems, type `int64`, 16 bytes\n",
      "np            module     <module 'numpy' from '/ho<...>kages/numpy/__init__.py'>\n"
     ]
    }
   ],
   "source": [
    "whos"
   ]
  },
  {
   "cell_type": "code",
   "execution_count": 42,
   "metadata": {},
   "outputs": [
    {
     "data": {
      "text/plain": [
       "array([12, 40])"
      ]
     },
     "execution_count": 42,
     "metadata": {},
     "output_type": "execute_result"
    }
   ],
   "source": [
    "array_slice"
   ]
  },
  {
   "cell_type": "code",
   "execution_count": 43,
   "metadata": {},
   "outputs": [
    {
     "data": {
      "text/plain": [
       "array([[[ 1,  2,  3],\n",
       "        [10,  2,  3]],\n",
       "\n",
       "       [[21,  2,  3],\n",
       "        [31,  2,  3]]])"
      ]
     },
     "execution_count": 43,
     "metadata": {},
     "output_type": "execute_result"
    }
   ],
   "source": [
    "arra"
   ]
  },
  {
   "cell_type": "code",
   "execution_count": 44,
   "metadata": {},
   "outputs": [
    {
     "data": {
      "text/plain": [
       "array([[[21,  2,  3],\n",
       "        [31,  2,  3]]])"
      ]
     },
     "execution_count": 44,
     "metadata": {},
     "output_type": "execute_result"
    }
   ],
   "source": [
    "arra[1:]"
   ]
  },
  {
   "cell_type": "code",
   "execution_count": 45,
   "metadata": {},
   "outputs": [
    {
     "ename": "NameError",
     "evalue": "name 'arr2' is not defined",
     "output_type": "error",
     "traceback": [
      "\u001b[0;31m---------------------------------------------------------------------------\u001b[0m",
      "\u001b[0;31mNameError\u001b[0m                                 Traceback (most recent call last)",
      "\u001b[0;32m<ipython-input-45-5c58a0b4a6c8>\u001b[0m in \u001b[0;36m<module>\u001b[0;34m\u001b[0m\n\u001b[0;32m----> 1\u001b[0;31m \u001b[0marr2\u001b[0m\u001b[0;34m\u001b[0m\u001b[0;34m\u001b[0m\u001b[0m\n\u001b[0m",
      "\u001b[0;31mNameError\u001b[0m: name 'arr2' is not defined"
     ]
    }
   ],
   "source": [
    "arr2"
   ]
  },
  {
   "cell_type": "code",
   "execution_count": 46,
   "metadata": {},
   "outputs": [],
   "source": [
    "arr2 = [[1,2,3],[4,5,6],[7,8,9]]"
   ]
  },
  {
   "cell_type": "code",
   "execution_count": 47,
   "metadata": {},
   "outputs": [
    {
     "ename": "AttributeError",
     "evalue": "'list' object has no attribute 'shape'",
     "output_type": "error",
     "traceback": [
      "\u001b[0;31m---------------------------------------------------------------------------\u001b[0m",
      "\u001b[0;31mAttributeError\u001b[0m                            Traceback (most recent call last)",
      "\u001b[0;32m<ipython-input-47-55feed3c4813>\u001b[0m in \u001b[0;36m<module>\u001b[0;34m\u001b[0m\n\u001b[0;32m----> 1\u001b[0;31m \u001b[0marr2\u001b[0m\u001b[0;34m.\u001b[0m\u001b[0mshape\u001b[0m\u001b[0;34m\u001b[0m\u001b[0;34m\u001b[0m\u001b[0m\n\u001b[0m",
      "\u001b[0;31mAttributeError\u001b[0m: 'list' object has no attribute 'shape'"
     ]
    }
   ],
   "source": [
    "arr2.shape"
   ]
  },
  {
   "cell_type": "code",
   "execution_count": 48,
   "metadata": {},
   "outputs": [],
   "source": [
    "arr2 = np.array(arr2)"
   ]
  },
  {
   "cell_type": "code",
   "execution_count": 49,
   "metadata": {},
   "outputs": [
    {
     "data": {
      "text/plain": [
       "(3, 3)"
      ]
     },
     "execution_count": 49,
     "metadata": {},
     "output_type": "execute_result"
    }
   ],
   "source": [
    "arr2.shape"
   ]
  },
  {
   "cell_type": "code",
   "execution_count": 50,
   "metadata": {},
   "outputs": [
    {
     "data": {
      "text/plain": [
       "array([[1, 2, 3],\n",
       "       [4, 5, 6]])"
      ]
     },
     "execution_count": 50,
     "metadata": {},
     "output_type": "execute_result"
    }
   ],
   "source": [
    "arr2[:2]"
   ]
  },
  {
   "cell_type": "code",
   "execution_count": 51,
   "metadata": {},
   "outputs": [
    {
     "data": {
      "text/plain": [
       "array([[1, 2, 3],\n",
       "       [4, 5, 6],\n",
       "       [7, 8, 9]])"
      ]
     },
     "execution_count": 51,
     "metadata": {},
     "output_type": "execute_result"
    }
   ],
   "source": [
    "arr2"
   ]
  },
  {
   "cell_type": "code",
   "execution_count": 52,
   "metadata": {},
   "outputs": [
    {
     "data": {
      "text/plain": [
       "array([[4, 5, 6],\n",
       "       [7, 8, 9]])"
      ]
     },
     "execution_count": 52,
     "metadata": {},
     "output_type": "execute_result"
    }
   ],
   "source": [
    "arr2[1:]"
   ]
  },
  {
   "cell_type": "code",
   "execution_count": 53,
   "metadata": {},
   "outputs": [
    {
     "data": {
      "text/plain": [
       "array([[4, 5]])"
      ]
     },
     "execution_count": 53,
     "metadata": {},
     "output_type": "execute_result"
    }
   ],
   "source": [
    "arr2[1:2, :2]"
   ]
  },
  {
   "cell_type": "code",
   "execution_count": 54,
   "metadata": {},
   "outputs": [
    {
     "data": {
      "text/plain": [
       "array([[1, 2],\n",
       "       [4, 5]])"
      ]
     },
     "execution_count": 54,
     "metadata": {},
     "output_type": "execute_result"
    }
   ],
   "source": [
    "arr2[:2, :2]"
   ]
  },
  {
   "cell_type": "code",
   "execution_count": 58,
   "metadata": {},
   "outputs": [
    {
     "data": {
      "text/plain": [
       "array([[1, 2],\n",
       "       [4, 5]])"
      ]
     },
     "execution_count": 58,
     "metadata": {},
     "output_type": "execute_result"
    }
   ],
   "source": [
    "arr2[:2 ,:2]"
   ]
  },
  {
   "cell_type": "code",
   "execution_count": 59,
   "metadata": {},
   "outputs": [
    {
     "data": {
      "text/plain": [
       "array([[1, 2, 3],\n",
       "       [4, 5, 6],\n",
       "       [7, 8, 9]])"
      ]
     },
     "execution_count": 59,
     "metadata": {},
     "output_type": "execute_result"
    }
   ],
   "source": [
    "arr2"
   ]
  },
  {
   "cell_type": "code",
   "execution_count": 60,
   "metadata": {},
   "outputs": [
    {
     "data": {
      "text/plain": [
       "array([4, 5])"
      ]
     },
     "execution_count": 60,
     "metadata": {},
     "output_type": "execute_result"
    }
   ],
   "source": [
    "arr2[1,:2]"
   ]
  },
  {
   "cell_type": "code",
   "execution_count": 62,
   "metadata": {},
   "outputs": [
    {
     "data": {
      "text/plain": [
       "array([3, 6, 9])"
      ]
     },
     "execution_count": 62,
     "metadata": {},
     "output_type": "execute_result"
    }
   ],
   "source": [
    "arr2[0:, 2]\n",
    "# 3rd column, slice everything"
   ]
  },
  {
   "cell_type": "code",
   "execution_count": 64,
   "metadata": {},
   "outputs": [
    {
     "data": {
      "text/plain": [
       "array([[1],\n",
       "       [4],\n",
       "       [7]])"
      ]
     },
     "execution_count": 64,
     "metadata": {},
     "output_type": "execute_result"
    }
   ],
   "source": [
    "arr2[:, :1]"
   ]
  },
  {
   "cell_type": "code",
   "execution_count": 65,
   "metadata": {},
   "outputs": [],
   "source": [
    "goal = 77+26"
   ]
  },
  {
   "cell_type": "code",
   "execution_count": 66,
   "metadata": {},
   "outputs": [
    {
     "data": {
      "text/plain": [
       "103"
      ]
     },
     "execution_count": 66,
     "metadata": {},
     "output_type": "execute_result"
    }
   ],
   "source": [
    "goal"
   ]
  },
  {
   "cell_type": "code",
   "execution_count": 144,
   "metadata": {},
   "outputs": [],
   "source": [
    "pg = 99\n",
    "to_go = goal - pg"
   ]
  },
  {
   "cell_type": "code",
   "execution_count": 145,
   "metadata": {},
   "outputs": [
    {
     "data": {
      "text/plain": [
       "4"
      ]
     },
     "execution_count": 145,
     "metadata": {},
     "output_type": "execute_result"
    }
   ],
   "source": [
    "to_go"
   ]
  },
  {
   "cell_type": "code",
   "execution_count": 146,
   "metadata": {},
   "outputs": [],
   "source": [
    "names = np.array(['Bob', 'Joe', 'me', 'Will', 'Bob', 'Joe', 'Will'])"
   ]
  },
  {
   "cell_type": "code",
   "execution_count": 89,
   "metadata": {},
   "outputs": [],
   "source": [
    "data = np.random.randn(7,4)"
   ]
  },
  {
   "cell_type": "code",
   "execution_count": 90,
   "metadata": {},
   "outputs": [
    {
     "data": {
      "text/plain": [
       "array(['Bob', 'Joe', 'me', 'Will', 'Bob', 'Joe', 'Will'], dtype='<U4')"
      ]
     },
     "execution_count": 90,
     "metadata": {},
     "output_type": "execute_result"
    }
   ],
   "source": [
    "names"
   ]
  },
  {
   "cell_type": "code",
   "execution_count": 91,
   "metadata": {},
   "outputs": [
    {
     "data": {
      "text/plain": [
       "array([[-7.45503416e-01, -1.53136433e+00, -1.72323430e-01,\n",
       "         9.19798278e-01],\n",
       "       [-2.62412727e-01, -1.16866721e-01, -6.69184448e-01,\n",
       "         8.53155433e-01],\n",
       "       [-6.48123745e-01, -6.76071561e-01, -3.14391958e-02,\n",
       "         3.42083721e-01],\n",
       "       [-1.66821562e+00,  8.81011502e-01,  1.98529162e+00,\n",
       "        -1.45870996e+00],\n",
       "       [ 9.82841784e-01,  1.49811010e+00,  8.54093588e-01,\n",
       "        -5.81169533e-01],\n",
       "       [ 3.54093642e-02, -1.00700135e+00,  3.96985765e-01,\n",
       "        -1.05981640e-01],\n",
       "       [-9.60180381e-01, -6.43193395e-01, -3.03922117e-04,\n",
       "         8.42580001e-02]])"
      ]
     },
     "execution_count": 91,
     "metadata": {},
     "output_type": "execute_result"
    }
   ],
   "source": [
    "data"
   ]
  },
  {
   "cell_type": "code",
   "execution_count": 92,
   "metadata": {},
   "outputs": [
    {
     "data": {
      "text/plain": [
       "array([ True, False, False, False,  True, False, False])"
      ]
     },
     "execution_count": 92,
     "metadata": {},
     "output_type": "execute_result"
    }
   ],
   "source": [
    "names == 'Bob'"
   ]
  },
  {
   "cell_type": "code",
   "execution_count": 102,
   "metadata": {},
   "outputs": [],
   "source": [
    "data[names == 'Bob'] = 0"
   ]
  },
  {
   "cell_type": "code",
   "execution_count": 101,
   "metadata": {},
   "outputs": [
    {
     "data": {
      "text/plain": [
       "False"
      ]
     },
     "execution_count": 101,
     "metadata": {},
     "output_type": "execute_result"
    }
   ],
   "source": [
    "'me' not in names"
   ]
  },
  {
   "cell_type": "code",
   "execution_count": 103,
   "metadata": {},
   "outputs": [
    {
     "data": {
      "text/plain": [
       "array([[ 0.00000000e+00,  0.00000000e+00,  0.00000000e+00,\n",
       "         0.00000000e+00],\n",
       "       [-2.62412727e-01, -1.16866721e-01, -6.69184448e-01,\n",
       "         8.53155433e-01],\n",
       "       [-6.48123745e-01, -6.76071561e-01, -3.14391958e-02,\n",
       "         3.42083721e-01],\n",
       "       [-1.66821562e+00,  8.81011502e-01,  1.98529162e+00,\n",
       "        -1.45870996e+00],\n",
       "       [ 0.00000000e+00,  0.00000000e+00,  0.00000000e+00,\n",
       "         0.00000000e+00],\n",
       "       [ 3.54093642e-02, -1.00700135e+00,  3.96985765e-01,\n",
       "        -1.05981640e-01],\n",
       "       [-9.60180381e-01, -6.43193395e-01, -3.03922117e-04,\n",
       "         8.42580001e-02]])"
      ]
     },
     "execution_count": 103,
     "metadata": {},
     "output_type": "execute_result"
    }
   ],
   "source": [
    "data"
   ]
  },
  {
   "cell_type": "code",
   "execution_count": 105,
   "metadata": {},
   "outputs": [],
   "source": [
    "arr2d = np.empty((8,4))"
   ]
  },
  {
   "cell_type": "code",
   "execution_count": 107,
   "metadata": {},
   "outputs": [],
   "source": [
    "for i in range(8):\n",
    "    arr2d[i] = i"
   ]
  },
  {
   "cell_type": "code",
   "execution_count": 108,
   "metadata": {},
   "outputs": [
    {
     "data": {
      "text/plain": [
       "array([[0., 0., 0., 0.],\n",
       "       [1., 1., 1., 1.],\n",
       "       [2., 2., 2., 2.],\n",
       "       [3., 3., 3., 3.],\n",
       "       [4., 4., 4., 4.],\n",
       "       [5., 5., 5., 5.],\n",
       "       [6., 6., 6., 6.],\n",
       "       [7., 7., 7., 7.]])"
      ]
     },
     "execution_count": 108,
     "metadata": {},
     "output_type": "execute_result"
    }
   ],
   "source": [
    "arr2d"
   ]
  },
  {
   "cell_type": "code",
   "execution_count": 110,
   "metadata": {},
   "outputs": [
    {
     "data": {
      "text/plain": [
       "array([[4., 4., 4., 4.],\n",
       "       [3., 3., 3., 3.],\n",
       "       [5., 5., 5., 5.],\n",
       "       [7., 7., 7., 7.]])"
      ]
     },
     "execution_count": 110,
     "metadata": {},
     "output_type": "execute_result"
    }
   ],
   "source": [
    "arr2d[[4,3,5,7]]"
   ]
  },
  {
   "cell_type": "code",
   "execution_count": 111,
   "metadata": {},
   "outputs": [
    {
     "data": {
      "text/plain": [
       "array([[[ 1,  2,  3],\n",
       "        [10,  2,  3]],\n",
       "\n",
       "       [[21,  2,  3],\n",
       "        [31,  2,  3]]])"
      ]
     },
     "execution_count": 111,
     "metadata": {},
     "output_type": "execute_result"
    }
   ],
   "source": [
    "arra"
   ]
  },
  {
   "cell_type": "code",
   "execution_count": 112,
   "metadata": {},
   "outputs": [
    {
     "ename": "NameError",
     "evalue": "name 'arr' is not defined",
     "output_type": "error",
     "traceback": [
      "\u001b[0;31m---------------------------------------------------------------------------\u001b[0m",
      "\u001b[0;31mNameError\u001b[0m                                 Traceback (most recent call last)",
      "\u001b[0;32m<ipython-input-112-24a6d41c5b66>\u001b[0m in \u001b[0;36m<module>\u001b[0;34m\u001b[0m\n\u001b[0;32m----> 1\u001b[0;31m \u001b[0marr\u001b[0m\u001b[0;34m\u001b[0m\u001b[0;34m\u001b[0m\u001b[0m\n\u001b[0m",
      "\u001b[0;31mNameError\u001b[0m: name 'arr' is not defined"
     ]
    }
   ],
   "source": [
    "arr"
   ]
  },
  {
   "cell_type": "code",
   "execution_count": 113,
   "metadata": {},
   "outputs": [
    {
     "name": "stdout",
     "output_type": "stream",
     "text": [
      "Variable      Type       Data/Info\n",
      "----------------------------------\n",
      "arr2          ndarray    3x3: 9 elems, type `int64`, 72 bytes\n",
      "arr2d         ndarray    8x4: 32 elems, type `float64`, 256 bytes\n",
      "arra          ndarray    2x2x3: 12 elems, type `int64`, 96 bytes\n",
      "array         ndarray    9: 9 elems, type `int64`, 72 bytes\n",
      "array_slice   ndarray    2: 2 elems, type `int64`, 16 bytes\n",
      "current       int        4\n",
      "data          ndarray    7x4: 28 elems, type `float64`, 224 bytes\n",
      "goal          int        103\n",
      "i             int        7\n",
      "names         ndarray    7: 7 elems, type `<U4`, 112 bytes\n",
      "np            module     <module 'numpy' from '/ho<...>kages/numpy/__init__.py'>\n",
      "pg            int        99\n",
      "to_go         int        4\n"
     ]
    }
   ],
   "source": [
    "whos"
   ]
  },
  {
   "cell_type": "code",
   "execution_count": 114,
   "metadata": {},
   "outputs": [
    {
     "data": {
      "text/plain": [
       "array([[ 0.00000000e+00,  0.00000000e+00,  0.00000000e+00,\n",
       "         0.00000000e+00],\n",
       "       [-2.62412727e-01, -1.16866721e-01, -6.69184448e-01,\n",
       "         8.53155433e-01],\n",
       "       [-6.48123745e-01, -6.76071561e-01, -3.14391958e-02,\n",
       "         3.42083721e-01],\n",
       "       [-1.66821562e+00,  8.81011502e-01,  1.98529162e+00,\n",
       "        -1.45870996e+00],\n",
       "       [ 0.00000000e+00,  0.00000000e+00,  0.00000000e+00,\n",
       "         0.00000000e+00],\n",
       "       [ 3.54093642e-02, -1.00700135e+00,  3.96985765e-01,\n",
       "        -1.05981640e-01],\n",
       "       [-9.60180381e-01, -6.43193395e-01, -3.03922117e-04,\n",
       "         8.42580001e-02]])"
      ]
     },
     "execution_count": 114,
     "metadata": {},
     "output_type": "execute_result"
    }
   ],
   "source": [
    "data\n"
   ]
  },
  {
   "cell_type": "code",
   "execution_count": 115,
   "metadata": {},
   "outputs": [
    {
     "ename": "IndexError",
     "evalue": "only integers, slices (`:`), ellipsis (`...`), numpy.newaxis (`None`) and integer or boolean arrays are valid indices",
     "output_type": "error",
     "traceback": [
      "\u001b[0;31m---------------------------------------------------------------------------\u001b[0m",
      "\u001b[0;31mIndexError\u001b[0m                                Traceback (most recent call last)",
      "\u001b[0;32m<ipython-input-115-bfd13e0567ff>\u001b[0m in \u001b[0;36m<module>\u001b[0;34m\u001b[0m\n\u001b[0;32m----> 1\u001b[0;31m \u001b[0mdata\u001b[0m\u001b[0;34m[\u001b[0m\u001b[0;34m[\u001b[0m\u001b[0;34m-\u001b[0m\u001b[0;36m2.62412727e-01\u001b[0m\u001b[0;34m]\u001b[0m\u001b[0;34m]\u001b[0m\u001b[0;34m\u001b[0m\u001b[0;34m\u001b[0m\u001b[0m\n\u001b[0m",
      "\u001b[0;31mIndexError\u001b[0m: only integers, slices (`:`), ellipsis (`...`), numpy.newaxis (`None`) and integer or boolean arrays are valid indices"
     ]
    }
   ],
   "source": [
    "data[[-2.62412727e-01]]"
   ]
  },
  {
   "cell_type": "code",
   "execution_count": 116,
   "metadata": {},
   "outputs": [
    {
     "data": {
      "text/plain": [
       "array([[0., 0., 0., 0.],\n",
       "       [1., 1., 1., 1.],\n",
       "       [2., 2., 2., 2.],\n",
       "       [3., 3., 3., 3.],\n",
       "       [4., 4., 4., 4.],\n",
       "       [5., 5., 5., 5.],\n",
       "       [6., 6., 6., 6.],\n",
       "       [7., 7., 7., 7.]])"
      ]
     },
     "execution_count": 116,
     "metadata": {},
     "output_type": "execute_result"
    }
   ],
   "source": [
    "arr2d"
   ]
  },
  {
   "cell_type": "code",
   "execution_count": 123,
   "metadata": {},
   "outputs": [],
   "source": [
    "arr2d[0]=8"
   ]
  },
  {
   "cell_type": "code",
   "execution_count": 124,
   "metadata": {},
   "outputs": [],
   "source": [
    "arr2d[-1] = 9"
   ]
  },
  {
   "cell_type": "code",
   "execution_count": 125,
   "metadata": {},
   "outputs": [
    {
     "data": {
      "text/plain": [
       "array([[8., 8., 8., 8.],\n",
       "       [1., 1., 1., 1.],\n",
       "       [2., 2., 2., 2.],\n",
       "       [3., 3., 3., 3.],\n",
       "       [4., 4., 4., 4.],\n",
       "       [5., 5., 5., 5.],\n",
       "       [6., 6., 6., 6.],\n",
       "       [9., 9., 9., 9.]])"
      ]
     },
     "execution_count": 125,
     "metadata": {},
     "output_type": "execute_result"
    }
   ],
   "source": [
    "arr2d"
   ]
  },
  {
   "cell_type": "code",
   "execution_count": 131,
   "metadata": {},
   "outputs": [
    {
     "data": {
      "text/plain": [
       "array([[8., 8., 8., 8.],\n",
       "       [6., 6., 6., 6.],\n",
       "       [9., 9., 9., 9.]])"
      ]
     },
     "execution_count": 131,
     "metadata": {},
     "output_type": "execute_result"
    }
   ],
   "source": [
    "arr2d[[0,-2,7]]"
   ]
  },
  {
   "cell_type": "code",
   "execution_count": 4,
   "metadata": {},
   "outputs": [],
   "source": [
    "pg = 103"
   ]
  },
  {
   "cell_type": "code",
   "execution_count": 5,
   "metadata": {},
   "outputs": [
    {
     "data": {
      "text/plain": [
       "129"
      ]
     },
     "execution_count": 5,
     "metadata": {},
     "output_type": "execute_result"
    }
   ],
   "source": [
    "goal "
   ]
  },
  {
   "cell_type": "code",
   "execution_count": 6,
   "metadata": {},
   "outputs": [],
   "source": [
    "to_go = goal - pg"
   ]
  },
  {
   "cell_type": "code",
   "execution_count": 7,
   "metadata": {},
   "outputs": [
    {
     "data": {
      "text/plain": [
       "26"
      ]
     },
     "execution_count": 7,
     "metadata": {},
     "output_type": "execute_result"
    }
   ],
   "source": [
    "to_go"
   ]
  },
  {
   "cell_type": "code",
   "execution_count": 8,
   "metadata": {},
   "outputs": [],
   "source": [
    "#Goal achieved!! Good Job!"
   ]
  },
  {
   "cell_type": "code",
   "execution_count": 9,
   "metadata": {},
   "outputs": [
    {
     "data": {
      "text/plain": [
       "129"
      ]
     },
     "execution_count": 9,
     "metadata": {},
     "output_type": "execute_result"
    }
   ],
   "source": [
    "103 + 26"
   ]
  },
  {
   "cell_type": "code",
   "execution_count": 10,
   "metadata": {},
   "outputs": [],
   "source": [
    "goal = 129"
   ]
  },
  {
   "cell_type": "code",
   "execution_count": 11,
   "metadata": {},
   "outputs": [
    {
     "data": {
      "text/plain": [
       "26"
      ]
     },
     "execution_count": 11,
     "metadata": {},
     "output_type": "execute_result"
    }
   ],
   "source": [
    "to_go"
   ]
  },
  {
   "cell_type": "code",
   "execution_count": 12,
   "metadata": {},
   "outputs": [],
   "source": [
    "import numpy as np"
   ]
  },
  {
   "cell_type": "code",
   "execution_count": 13,
   "metadata": {},
   "outputs": [],
   "source": [
    "arr = np.arange(32).reshape(8,4)"
   ]
  },
  {
   "cell_type": "code",
   "execution_count": 14,
   "metadata": {},
   "outputs": [
    {
     "data": {
      "text/plain": [
       "array([[ 0,  1,  2,  3],\n",
       "       [ 4,  5,  6,  7],\n",
       "       [ 8,  9, 10, 11],\n",
       "       [12, 13, 14, 15],\n",
       "       [16, 17, 18, 19],\n",
       "       [20, 21, 22, 23],\n",
       "       [24, 25, 26, 27],\n",
       "       [28, 29, 30, 31]])"
      ]
     },
     "execution_count": 14,
     "metadata": {},
     "output_type": "execute_result"
    }
   ],
   "source": [
    "arr"
   ]
  },
  {
   "cell_type": "code",
   "execution_count": 15,
   "metadata": {},
   "outputs": [
    {
     "data": {
      "text/plain": [
       "array([ 5, 10, 13, 16])"
      ]
     },
     "execution_count": 15,
     "metadata": {},
     "output_type": "execute_result"
    }
   ],
   "source": [
    "# using fancy indexing:\n",
    "arr[[1,2,3,4],[1,2,1,0]]"
   ]
  },
  {
   "cell_type": "code",
   "execution_count": 16,
   "metadata": {},
   "outputs": [
    {
     "data": {
      "text/plain": [
       "array([[ 0,  1,  2,  3],\n",
       "       [ 4,  5,  6,  7],\n",
       "       [ 8,  9, 10, 11],\n",
       "       [12, 13, 14, 15],\n",
       "       [16, 17, 18, 19],\n",
       "       [20, 21, 22, 23],\n",
       "       [24, 25, 26, 27],\n",
       "       [28, 29, 30, 31]])"
      ]
     },
     "execution_count": 16,
     "metadata": {},
     "output_type": "execute_result"
    }
   ],
   "source": [
    "arr"
   ]
  },
  {
   "cell_type": "code",
   "execution_count": 17,
   "metadata": {},
   "outputs": [
    {
     "data": {
      "text/plain": [
       "array([[ 0,  4,  8, 12, 16, 20, 24, 28],\n",
       "       [ 1,  5,  9, 13, 17, 21, 25, 29],\n",
       "       [ 2,  6, 10, 14, 18, 22, 26, 30],\n",
       "       [ 3,  7, 11, 15, 19, 23, 27, 31]])"
      ]
     },
     "execution_count": 17,
     "metadata": {},
     "output_type": "execute_result"
    }
   ],
   "source": [
    "arr.T"
   ]
  },
  {
   "cell_type": "code",
   "execution_count": 19,
   "metadata": {},
   "outputs": [
    {
     "data": {
      "text/plain": [
       "array([[ 0,  4,  8, 12, 16, 20, 24, 28],\n",
       "       [ 1,  5,  9, 13, 17, 21, 25, 29],\n",
       "       [ 2,  6, 10, 14, 18, 22, 26, 30],\n",
       "       [ 3,  7, 11, 15, 19, 23, 27, 31]])"
      ]
     },
     "execution_count": 19,
     "metadata": {},
     "output_type": "execute_result"
    }
   ],
   "source": [
    "arr.transpose()"
   ]
  },
  {
   "cell_type": "code",
   "execution_count": 24,
   "metadata": {},
   "outputs": [],
   "source": [
    "arra = np.random.randn(6,3)"
   ]
  },
  {
   "cell_type": "code",
   "execution_count": 25,
   "metadata": {},
   "outputs": [
    {
     "data": {
      "text/plain": [
       "array([[-0.25137799,  0.75831457,  1.14189036],\n",
       "       [ 0.89827019,  0.41466127,  1.49950412],\n",
       "       [ 0.98182356, -0.7130067 , -1.00711086],\n",
       "       [-0.47568545, -0.74596783, -1.2071607 ],\n",
       "       [ 1.6117711 , -1.84866708,  0.1838962 ],\n",
       "       [-0.43959752,  1.92804498, -1.60879297]])"
      ]
     },
     "execution_count": 25,
     "metadata": {},
     "output_type": "execute_result"
    }
   ],
   "source": [
    "arra"
   ]
  },
  {
   "cell_type": "code",
   "execution_count": 28,
   "metadata": {},
   "outputs": [
    {
     "data": {
      "text/plain": [
       "array([[ 4.85138642, -3.99053842,  1.64895733],\n",
       "       [-3.99053842,  8.94675893, -0.33550985],\n",
       "       [ 1.64895733, -0.33550985,  8.64596804]])"
      ]
     },
     "execution_count": 28,
     "metadata": {},
     "output_type": "execute_result"
    }
   ],
   "source": [
    "np.dot(arra.T, arra)"
   ]
  },
  {
   "cell_type": "code",
   "execution_count": 29,
   "metadata": {},
   "outputs": [],
   "source": [
    "transposed = arra.T"
   ]
  },
  {
   "cell_type": "code",
   "execution_count": 30,
   "metadata": {},
   "outputs": [
    {
     "data": {
      "text/plain": [
       "array([[-0.25137799,  0.75831457,  1.14189036],\n",
       "       [ 0.89827019,  0.41466127,  1.49950412],\n",
       "       [ 0.98182356, -0.7130067 , -1.00711086],\n",
       "       [-0.47568545, -0.74596783, -1.2071607 ],\n",
       "       [ 1.6117711 , -1.84866708,  0.1838962 ],\n",
       "       [-0.43959752,  1.92804498, -1.60879297]])"
      ]
     },
     "execution_count": 30,
     "metadata": {},
     "output_type": "execute_result"
    }
   ],
   "source": [
    "arra"
   ]
  },
  {
   "cell_type": "raw",
   "metadata": {},
   "source": []
  },
  {
   "cell_type": "code",
   "execution_count": 31,
   "metadata": {},
   "outputs": [
    {
     "data": {
      "text/plain": [
       "array([[-0.25137799,  0.89827019,  0.98182356, -0.47568545,  1.6117711 ,\n",
       "        -0.43959752],\n",
       "       [ 0.75831457,  0.41466127, -0.7130067 , -0.74596783, -1.84866708,\n",
       "         1.92804498],\n",
       "       [ 1.14189036,  1.49950412, -1.00711086, -1.2071607 ,  0.1838962 ,\n",
       "        -1.60879297]])"
      ]
     },
     "execution_count": 31,
     "metadata": {},
     "output_type": "execute_result"
    }
   ],
   "source": [
    "transposed"
   ]
  },
  {
   "cell_type": "code",
   "execution_count": 32,
   "metadata": {},
   "outputs": [
    {
     "ename": "ValueError",
     "evalue": "operands could not be broadcast together with shapes (6,3) (3,6) ",
     "output_type": "error",
     "traceback": [
      "\u001b[0;31m---------------------------------------------------------------------------\u001b[0m",
      "\u001b[0;31mValueError\u001b[0m                                Traceback (most recent call last)",
      "\u001b[0;32m<ipython-input-32-0a3bb8e73859>\u001b[0m in \u001b[0;36m<module>\u001b[0;34m\u001b[0m\n\u001b[0;32m----> 1\u001b[0;31m \u001b[0marra\u001b[0m\u001b[0;34m*\u001b[0m\u001b[0mtransposed\u001b[0m\u001b[0;34m\u001b[0m\u001b[0;34m\u001b[0m\u001b[0m\n\u001b[0m",
      "\u001b[0;31mValueError\u001b[0m: operands could not be broadcast together with shapes (6,3) (3,6) "
     ]
    }
   ],
   "source": [
    "arra*transposed"
   ]
  },
  {
   "cell_type": "code",
   "execution_count": 33,
   "metadata": {},
   "outputs": [
    {
     "data": {
      "text/plain": [
       "array([[-0.25137799,  0.75831457,  1.14189036],\n",
       "       [ 0.89827019,  0.41466127,  1.49950412],\n",
       "       [ 0.98182356, -0.7130067 , -1.00711086],\n",
       "       [-0.47568545, -0.74596783, -1.2071607 ],\n",
       "       [ 1.6117711 , -1.84866708,  0.1838962 ],\n",
       "       [-0.43959752,  1.92804498, -1.60879297]])"
      ]
     },
     "execution_count": 33,
     "metadata": {},
     "output_type": "execute_result"
    }
   ],
   "source": [
    "arra"
   ]
  },
  {
   "cell_type": "code",
   "execution_count": 35,
   "metadata": {},
   "outputs": [
    {
     "data": {
      "text/plain": [
       "array([[0.06319089, 0.57504099, 1.30391358],\n",
       "       [0.80688933, 0.17194397, 2.24851259],\n",
       "       [0.96397751, 0.50837855, 1.01427229],\n",
       "       [0.22627665, 0.55646801, 1.45723695],\n",
       "       [2.59780606, 3.41756998, 0.03381781],\n",
       "       [0.19324598, 3.71735744, 2.58821481]])"
      ]
     },
     "execution_count": 35,
     "metadata": {},
     "output_type": "execute_result"
    }
   ],
   "source": [
    "arra * arra"
   ]
  },
  {
   "cell_type": "code",
   "execution_count": 38,
   "metadata": {},
   "outputs": [
    {
     "data": {
      "text/plain": [
       "array([[ 4.85138642, -3.99053842,  1.64895733],\n",
       "       [-3.99053842,  8.94675893, -0.33550985],\n",
       "       [ 1.64895733, -0.33550985,  8.64596804]])"
      ]
     },
     "execution_count": 38,
     "metadata": {},
     "output_type": "execute_result"
    }
   ],
   "source": [
    "np.dot(transposed, arra)"
   ]
  },
  {
   "cell_type": "code",
   "execution_count": 40,
   "metadata": {},
   "outputs": [],
   "source": [
    "arr1 = np.array([[1,2,3,4],[5,6,7,8],[9,10,11,12]])\n",
    "arr2 = arr1.T"
   ]
  },
  {
   "cell_type": "code",
   "execution_count": 42,
   "metadata": {},
   "outputs": [
    {
     "data": {
      "text/plain": [
       "array([[ 1,  5,  9],\n",
       "       [ 2,  6, 10],\n",
       "       [ 3,  7, 11],\n",
       "       [ 4,  8, 12]])"
      ]
     },
     "execution_count": 42,
     "metadata": {},
     "output_type": "execute_result"
    }
   ],
   "source": [
    "arr2"
   ]
  },
  {
   "cell_type": "code",
   "execution_count": 43,
   "metadata": {},
   "outputs": [
    {
     "data": {
      "text/plain": [
       "array([[ 30,  70, 110],\n",
       "       [ 70, 174, 278],\n",
       "       [110, 278, 446]])"
      ]
     },
     "execution_count": 43,
     "metadata": {},
     "output_type": "execute_result"
    }
   ],
   "source": [
    "np.dot(arr1,arr2)"
   ]
  },
  {
   "cell_type": "code",
   "execution_count": 46,
   "metadata": {},
   "outputs": [
    {
     "data": {
      "text/plain": [
       "174"
      ]
     },
     "execution_count": 46,
     "metadata": {},
     "output_type": "execute_result"
    }
   ],
   "source": [
    "25+36+49+64"
   ]
  },
  {
   "cell_type": "code",
   "execution_count": 47,
   "metadata": {},
   "outputs": [
    {
     "data": {
      "text/plain": [
       "446"
      ]
     },
     "execution_count": 47,
     "metadata": {},
     "output_type": "execute_result"
    }
   ],
   "source": [
    "81+100+121+144"
   ]
  },
  {
   "cell_type": "code",
   "execution_count": 48,
   "metadata": {},
   "outputs": [
    {
     "data": {
      "text/plain": [
       "array([[ 0,  1,  2,  3],\n",
       "       [ 4,  5,  6,  7],\n",
       "       [ 8,  9, 10, 11],\n",
       "       [12, 13, 14, 15],\n",
       "       [16, 17, 18, 19],\n",
       "       [20, 21, 22, 23],\n",
       "       [24, 25, 26, 27],\n",
       "       [28, 29, 30, 31]])"
      ]
     },
     "execution_count": 48,
     "metadata": {},
     "output_type": "execute_result"
    }
   ],
   "source": [
    "arr"
   ]
  },
  {
   "cell_type": "code",
   "execution_count": 50,
   "metadata": {},
   "outputs": [
    {
     "data": {
      "text/plain": [
       "array([[ 0,  4,  8, 12, 16, 20, 24, 28],\n",
       "       [ 1,  5,  9, 13, 17, 21, 25, 29],\n",
       "       [ 2,  6, 10, 14, 18, 22, 26, 30],\n",
       "       [ 3,  7, 11, 15, 19, 23, 27, 31]])"
      ]
     },
     "execution_count": 50,
     "metadata": {},
     "output_type": "execute_result"
    }
   ],
   "source": [
    "arr.swapaxes(0,1)"
   ]
  },
  {
   "cell_type": "code",
   "execution_count": 51,
   "metadata": {},
   "outputs": [
    {
     "data": {
      "text/plain": [
       "array([[ 0,  4,  8, 12, 16, 20, 24, 28],\n",
       "       [ 1,  5,  9, 13, 17, 21, 25, 29],\n",
       "       [ 2,  6, 10, 14, 18, 22, 26, 30],\n",
       "       [ 3,  7, 11, 15, 19, 23, 27, 31]])"
      ]
     },
     "execution_count": 51,
     "metadata": {},
     "output_type": "execute_result"
    }
   ],
   "source": [
    "arr.T\n"
   ]
  },
  {
   "cell_type": "code",
   "execution_count": 52,
   "metadata": {},
   "outputs": [],
   "source": [
    "np.exp??"
   ]
  },
  {
   "cell_type": "code",
   "execution_count": 55,
   "metadata": {},
   "outputs": [],
   "source": [
    "array1 = np.arange(10)*5"
   ]
  },
  {
   "cell_type": "code",
   "execution_count": 56,
   "metadata": {},
   "outputs": [
    {
     "data": {
      "text/plain": [
       "array([0.        , 2.23606798, 3.16227766, 3.87298335, 4.47213595,\n",
       "       5.        , 5.47722558, 5.91607978, 6.32455532, 6.70820393])"
      ]
     },
     "execution_count": 56,
     "metadata": {},
     "output_type": "execute_result"
    }
   ],
   "source": [
    "np.sqrt(array1)"
   ]
  },
  {
   "cell_type": "code",
   "execution_count": 57,
   "metadata": {},
   "outputs": [
    {
     "ename": "TypeError",
     "evalue": "ufunc 'sqrt' output (typecode 'd') could not be coerced to provided output parameter (typecode 'l') according to the casting rule ''same_kind''",
     "output_type": "error",
     "traceback": [
      "\u001b[0;31m---------------------------------------------------------------------------\u001b[0m",
      "\u001b[0;31mTypeError\u001b[0m                                 Traceback (most recent call last)",
      "\u001b[0;32m<ipython-input-57-3b5187fddb0b>\u001b[0m in \u001b[0;36m<module>\u001b[0;34m\u001b[0m\n\u001b[0;32m----> 1\u001b[0;31m \u001b[0mnp\u001b[0m\u001b[0;34m.\u001b[0m\u001b[0msqrt\u001b[0m\u001b[0;34m(\u001b[0m\u001b[0marray1\u001b[0m\u001b[0;34m,\u001b[0m \u001b[0marray1\u001b[0m\u001b[0;34m)\u001b[0m\u001b[0;34m\u001b[0m\u001b[0;34m\u001b[0m\u001b[0m\n\u001b[0m",
      "\u001b[0;31mTypeError\u001b[0m: ufunc 'sqrt' output (typecode 'd') could not be coerced to provided output parameter (typecode 'l') according to the casting rule ''same_kind''"
     ]
    }
   ],
   "source": [
    "np.sqrt(array1, array1)"
   ]
  },
  {
   "cell_type": "code",
   "execution_count": 58,
   "metadata": {},
   "outputs": [
    {
     "data": {
      "text/plain": [
       "array([ 0,  5, 10, 15, 20, 25, 30, 35, 40, 45])"
      ]
     },
     "execution_count": 58,
     "metadata": {},
     "output_type": "execute_result"
    }
   ],
   "source": [
    "array1"
   ]
  },
  {
   "cell_type": "code",
   "execution_count": 59,
   "metadata": {},
   "outputs": [],
   "source": [
    "arr = np.random.randn(7) * 5"
   ]
  },
  {
   "cell_type": "code",
   "execution_count": 60,
   "metadata": {},
   "outputs": [
    {
     "name": "stderr",
     "output_type": "stream",
     "text": [
      "/home/wanjiku/anaconda3/lib/python3.7/site-packages/ipykernel_launcher.py:1: RuntimeWarning: invalid value encountered in sqrt\n",
      "  \"\"\"Entry point for launching an IPython kernel.\n"
     ]
    },
    {
     "data": {
      "text/plain": [
       "array([       nan, 1.98420669,        nan, 2.53097381,        nan,\n",
       "       0.37219559, 1.7748757 ])"
      ]
     },
     "execution_count": 60,
     "metadata": {},
     "output_type": "execute_result"
    }
   ],
   "source": [
    "np.sqrt(arr)"
   ]
  },
  {
   "cell_type": "code",
   "execution_count": 61,
   "metadata": {},
   "outputs": [
    {
     "data": {
      "text/plain": [
       "array([-4.84753025,  3.93707617, -7.07163474,  6.40582845, -2.59072942,\n",
       "        0.13852956,  3.15018374])"
      ]
     },
     "execution_count": 61,
     "metadata": {},
     "output_type": "execute_result"
    }
   ],
   "source": [
    "arr"
   ]
  },
  {
   "cell_type": "code",
   "execution_count": 62,
   "metadata": {},
   "outputs": [
    {
     "name": "stderr",
     "output_type": "stream",
     "text": [
      "/home/wanjiku/anaconda3/lib/python3.7/site-packages/ipykernel_launcher.py:1: RuntimeWarning: invalid value encountered in sqrt\n",
      "  \"\"\"Entry point for launching an IPython kernel.\n"
     ]
    },
    {
     "data": {
      "text/plain": [
       "array([       nan, 1.98420669,        nan, 2.53097381,        nan,\n",
       "       0.37219559, 1.7748757 ])"
      ]
     },
     "execution_count": 62,
     "metadata": {},
     "output_type": "execute_result"
    }
   ],
   "source": [
    "np.sqrt(arr, arr)"
   ]
  },
  {
   "cell_type": "code",
   "execution_count": 63,
   "metadata": {},
   "outputs": [
    {
     "data": {
      "text/plain": [
       "array([       nan, 1.98420669,        nan, 2.53097381,        nan,\n",
       "       0.37219559, 1.7748757 ])"
      ]
     },
     "execution_count": 63,
     "metadata": {},
     "output_type": "execute_result"
    }
   ],
   "source": [
    "arr"
   ]
  },
  {
   "cell_type": "code",
   "execution_count": 64,
   "metadata": {},
   "outputs": [
    {
     "ename": "NameError",
     "evalue": "name 'arra1' is not defined",
     "output_type": "error",
     "traceback": [
      "\u001b[0;31m---------------------------------------------------------------------------\u001b[0m",
      "\u001b[0;31mNameError\u001b[0m                                 Traceback (most recent call last)",
      "\u001b[0;32m<ipython-input-64-e3e7001f9a75>\u001b[0m in \u001b[0;36m<module>\u001b[0;34m\u001b[0m\n\u001b[0;32m----> 1\u001b[0;31m \u001b[0marra1\u001b[0m\u001b[0;34m\u001b[0m\u001b[0;34m\u001b[0m\u001b[0m\n\u001b[0m",
      "\u001b[0;31mNameError\u001b[0m: name 'arra1' is not defined"
     ]
    }
   ],
   "source": [
    "arra1"
   ]
  },
  {
   "cell_type": "code",
   "execution_count": 67,
   "metadata": {},
   "outputs": [
    {
     "data": {
      "text/plain": [
       "array([ 0,  5, 10, 15, 20, 25, 30, 35, 40, 45])"
      ]
     },
     "execution_count": 67,
     "metadata": {},
     "output_type": "execute_result"
    }
   ],
   "source": [
    "array1"
   ]
  },
  {
   "cell_type": "code",
   "execution_count": 68,
   "metadata": {},
   "outputs": [
    {
     "data": {
      "text/plain": [
       "array([[-0.25137799,  0.75831457,  1.14189036],\n",
       "       [ 0.89827019,  0.41466127,  1.49950412],\n",
       "       [ 0.98182356, -0.7130067 , -1.00711086],\n",
       "       [-0.47568545, -0.74596783, -1.2071607 ],\n",
       "       [ 1.6117711 , -1.84866708,  0.1838962 ],\n",
       "       [-0.43959752,  1.92804498, -1.60879297]])"
      ]
     },
     "execution_count": 68,
     "metadata": {},
     "output_type": "execute_result"
    }
   ],
   "source": [
    "arra"
   ]
  },
  {
   "cell_type": "code",
   "execution_count": 69,
   "metadata": {},
   "outputs": [],
   "source": [
    "array2 = np.random.randn(10)"
   ]
  },
  {
   "cell_type": "code",
   "execution_count": 70,
   "metadata": {},
   "outputs": [
    {
     "data": {
      "text/plain": [
       "array([ 0.39925828, -0.55665945, -0.06038731,  0.79060111, -0.58790785,\n",
       "        1.96268977,  0.16530593, -0.4762253 ,  0.92395735, -0.90697849])"
      ]
     },
     "execution_count": 70,
     "metadata": {},
     "output_type": "execute_result"
    }
   ],
   "source": [
    "array2"
   ]
  },
  {
   "cell_type": "code",
   "execution_count": 71,
   "metadata": {},
   "outputs": [
    {
     "data": {
      "text/plain": [
       "array([  0.,  -5., -10.,  15., -20.,  25.,  30., -35.,  40., -45.])"
      ]
     },
     "execution_count": 71,
     "metadata": {},
     "output_type": "execute_result"
    }
   ],
   "source": [
    "np.copysign(array1, array2)"
   ]
  },
  {
   "cell_type": "code",
   "execution_count": 72,
   "metadata": {},
   "outputs": [
    {
     "data": {
      "text/plain": [
       "1000.0"
      ]
     },
     "execution_count": 72,
     "metadata": {},
     "output_type": "execute_result"
    }
   ],
   "source": [
    "10/0.01\n"
   ]
  },
  {
   "cell_type": "code",
   "execution_count": 73,
   "metadata": {},
   "outputs": [],
   "source": [
    "points = np.arange(-5,5,0.01)"
   ]
  },
  {
   "cell_type": "code",
   "execution_count": 74,
   "metadata": {},
   "outputs": [],
   "source": [
    "xs, ys = np.meshgrid(points, points)"
   ]
  },
  {
   "cell_type": "code",
   "execution_count": 79,
   "metadata": {},
   "outputs": [
    {
     "data": {
      "text/plain": [
       "array([[-5.  , -5.  , -5.  , ..., -5.  , -5.  , -5.  ],\n",
       "       [-4.99, -4.99, -4.99, ..., -4.99, -4.99, -4.99],\n",
       "       [-4.98, -4.98, -4.98, ..., -4.98, -4.98, -4.98],\n",
       "       ...,\n",
       "       [ 4.97,  4.97,  4.97, ...,  4.97,  4.97,  4.97],\n",
       "       [ 4.98,  4.98,  4.98, ...,  4.98,  4.98,  4.98],\n",
       "       [ 4.99,  4.99,  4.99, ...,  4.99,  4.99,  4.99]])"
      ]
     },
     "execution_count": 79,
     "metadata": {},
     "output_type": "execute_result"
    }
   ],
   "source": [
    "ys"
   ]
  },
  {
   "cell_type": "code",
   "execution_count": 80,
   "metadata": {},
   "outputs": [
    {
     "data": {
      "text/plain": [
       "129"
      ]
     },
     "execution_count": 80,
     "metadata": {},
     "output_type": "execute_result"
    }
   ],
   "source": [
    "goal"
   ]
  },
  {
   "cell_type": "code",
   "execution_count": 81,
   "metadata": {},
   "outputs": [
    {
     "data": {
      "text/plain": [
       "103"
      ]
     },
     "execution_count": 81,
     "metadata": {},
     "output_type": "execute_result"
    }
   ],
   "source": [
    "pg"
   ]
  },
  {
   "cell_type": "code",
   "execution_count": 82,
   "metadata": {},
   "outputs": [
    {
     "data": {
      "text/plain": [
       "26"
      ]
     },
     "execution_count": 82,
     "metadata": {},
     "output_type": "execute_result"
    }
   ],
   "source": [
    "to_go"
   ]
  },
  {
   "cell_type": "code",
   "execution_count": 83,
   "metadata": {},
   "outputs": [],
   "source": [
    "pg = 108"
   ]
  },
  {
   "cell_type": "code",
   "execution_count": 84,
   "metadata": {},
   "outputs": [
    {
     "data": {
      "text/plain": [
       "26"
      ]
     },
     "execution_count": 84,
     "metadata": {},
     "output_type": "execute_result"
    }
   ],
   "source": [
    "to_go"
   ]
  },
  {
   "cell_type": "code",
   "execution_count": 85,
   "metadata": {},
   "outputs": [],
   "source": [
    "def togo(pg):\n",
    "    goal = 129\n",
    "    return goal - pg"
   ]
  },
  {
   "cell_type": "code",
   "execution_count": 86,
   "metadata": {},
   "outputs": [
    {
     "data": {
      "text/plain": [
       "21"
      ]
     },
     "execution_count": 86,
     "metadata": {},
     "output_type": "execute_result"
    }
   ],
   "source": [
    "togo(108)"
   ]
  },
  {
   "cell_type": "code",
   "execution_count": 87,
   "metadata": {},
   "outputs": [],
   "source": [
    "# sqrt(x**2 + y **2):\n",
    "z = np.sqrt(xs**2 + ys**2)"
   ]
  },
  {
   "cell_type": "code",
   "execution_count": 88,
   "metadata": {},
   "outputs": [
    {
     "data": {
      "text/plain": [
       "array([[7.07106781, 7.06400028, 7.05693985, ..., 7.04988652, 7.05693985,\n",
       "        7.06400028],\n",
       "       [7.06400028, 7.05692568, 7.04985815, ..., 7.04279774, 7.04985815,\n",
       "        7.05692568],\n",
       "       [7.05693985, 7.04985815, 7.04278354, ..., 7.03571603, 7.04278354,\n",
       "        7.04985815],\n",
       "       ...,\n",
       "       [7.04988652, 7.04279774, 7.03571603, ..., 7.0286414 , 7.03571603,\n",
       "        7.04279774],\n",
       "       [7.05693985, 7.04985815, 7.04278354, ..., 7.03571603, 7.04278354,\n",
       "        7.04985815],\n",
       "       [7.06400028, 7.05692568, 7.04985815, ..., 7.04279774, 7.04985815,\n",
       "        7.05692568]])"
      ]
     },
     "execution_count": 88,
     "metadata": {},
     "output_type": "execute_result"
    }
   ],
   "source": [
    "z"
   ]
  },
  {
   "cell_type": "code",
   "execution_count": 89,
   "metadata": {},
   "outputs": [],
   "source": [
    "import matplotlib.pyplot as plt"
   ]
  },
  {
   "cell_type": "code",
   "execution_count": 97,
   "metadata": {},
   "outputs": [
    {
     "data": {
      "text/plain": [
       "<matplotlib.colorbar.Colorbar at 0x7f47572f7910>"
      ]
     },
     "execution_count": 97,
     "metadata": {},
     "output_type": "execute_result"
    },
    {
     "data": {
      "image/png": "[encoded data removed]",
      "text/plain": [
       "<Figure size 432x288 with 2 Axes>"
      ]
     },
     "metadata": {
      "needs_background": "light"
     },
     "output_type": "display_data"
    }
   ],
   "source": [
    "plt.title(\"Image plot for $\\sqrt{x^2 + y^2}$ for grid values\")\n",
    "plt.imshow(z, cmap = plt.cm.gray); plt.colorbar()"
   ]
  },
  {
   "cell_type": "code",
   "execution_count": 99,
   "metadata": {},
   "outputs": [
    {
     "data": {
      "text/plain": [
       "array([[-1.00000000e+01, -9.99000000e+00, -9.98000000e+00, ...,\n",
       "        -3.00000000e-02, -2.00000000e-02, -1.00000000e-02],\n",
       "       [-9.99000000e+00, -9.98000000e+00, -9.97000000e+00, ...,\n",
       "        -2.00000000e-02, -1.00000000e-02, -2.13162821e-13],\n",
       "       [-9.98000000e+00, -9.97000000e+00, -9.96000000e+00, ...,\n",
       "        -1.00000000e-02, -2.13162821e-13,  1.00000000e-02],\n",
       "       ...,\n",
       "       [-3.00000000e-02, -2.00000000e-02, -1.00000000e-02, ...,\n",
       "         9.94000000e+00,  9.95000000e+00,  9.96000000e+00],\n",
       "       [-2.00000000e-02, -1.00000000e-02, -2.13162821e-13, ...,\n",
       "         9.95000000e+00,  9.96000000e+00,  9.97000000e+00],\n",
       "       [-1.00000000e-02, -2.13162821e-13,  1.00000000e-02, ...,\n",
       "         9.96000000e+00,  9.97000000e+00,  9.98000000e+00]])"
      ]
     },
     "execution_count": 99,
     "metadata": {},
     "output_type": "execute_result"
    }
   ],
   "source": [
    "xs+ys"
   ]
  },
  {
   "cell_type": "code",
   "execution_count": 102,
   "metadata": {},
   "outputs": [],
   "source": [
    "b = (xs, ys)"
   ]
  },
  {
   "cell_type": "code",
   "execution_count": 108,
   "metadata": {},
   "outputs": [
    {
     "data": {
      "text/plain": [
       "[<matplotlib.lines.Line2D at 0x7f475727a390>,\n",
       " <matplotlib.lines.Line2D at 0x7f475727a610>,\n",
       " <matplotlib.lines.Line2D at 0x7f475727a7d0>,\n",
       " <matplotlib.lines.Line2D at 0x7f475727a990>,\n",
       " <matplotlib.lines.Line2D at 0x7f475727ab50>,\n",
       " <matplotlib.lines.Line2D at 0x7f475727ad10>,\n",
       " <matplotlib.lines.Line2D at 0x7f475727af50>,\n",
       " <matplotlib.lines.Line2D at 0x7f4757274150>,\n",
       " <matplotlib.lines.Line2D at 0x7f475727ab10>,\n",
       " <matplotlib.lines.Line2D at 0x7f475727ad50>,\n",
       " <matplotlib.lines.Line2D at 0x7f4757315550>,\n",
       " <matplotlib.lines.Line2D at 0x7f4757274790>,\n",
       " <matplotlib.lines.Line2D at 0x7f4757274950>,\n",
       " <matplotlib.lines.Line2D at 0x7f4757274b10>,\n",
       " <matplotlib.lines.Line2D at 0x7f4757274cd0>,\n",
       " <matplotlib.lines.Line2D at 0x7f4757274e90>,\n",
       " <matplotlib.lines.Line2D at 0x7f4757275090>,\n",
       " <matplotlib.lines.Line2D at 0x7f4757275250>,\n",
       " <matplotlib.lines.Line2D at 0x7f4757275410>,\n",
       " <matplotlib.lines.Line2D at 0x7f47572755d0>,\n",
       " <matplotlib.lines.Line2D at 0x7f4757275790>,\n",
       " <matplotlib.lines.Line2D at 0x7f4757275950>,\n",
       " <matplotlib.lines.Line2D at 0x7f4757275b10>,\n",
       " <matplotlib.lines.Line2D at 0x7f4757275cd0>,\n",
       " <matplotlib.lines.Line2D at 0x7f4757275e90>,\n",
       " <matplotlib.lines.Line2D at 0x7f475729b090>,\n",
       " <matplotlib.lines.Line2D at 0x7f475729b250>,\n",
       " <matplotlib.lines.Line2D at 0x7f475729b410>,\n",
       " <matplotlib.lines.Line2D at 0x7f475729b5d0>,\n",
       " <matplotlib.lines.Line2D at 0x7f475729b790>,\n",
       " <matplotlib.lines.Line2D at 0x7f475729b950>,\n",
       " <matplotlib.lines.Line2D at 0x7f475729bb10>,\n",
       " <matplotlib.lines.Line2D at 0x7f475729bcd0>,\n",
       " <matplotlib.lines.Line2D at 0x7f475729be90>,\n",
       " <matplotlib.lines.Line2D at 0x7f475729e090>,\n",
       " <matplotlib.lines.Line2D at 0x7f475729e250>,\n",
       " <matplotlib.lines.Line2D at 0x7f475729e410>,\n",
       " <matplotlib.lines.Line2D at 0x7f475729e5d0>,\n",
       " <matplotlib.lines.Line2D at 0x7f475729e790>,\n",
       " <matplotlib.lines.Line2D at 0x7f475729e950>,\n",
       " <matplotlib.lines.Line2D at 0x7f475729eb10>,\n",
       " <matplotlib.lines.Line2D at 0x7f475729ecd0>,\n",
       " <matplotlib.lines.Line2D at 0x7f475729ee90>,\n",
       " <matplotlib.lines.Line2D at 0x7f47572a0090>,\n",
       " <matplotlib.lines.Line2D at 0x7f47572a0250>,\n",
       " <matplotlib.lines.Line2D at 0x7f47572a0410>,\n",
       " <matplotlib.lines.Line2D at 0x7f47572a05d0>,\n",
       " <matplotlib.lines.Line2D at 0x7f47572a0790>,\n",
       " <matplotlib.lines.Line2D at 0x7f47572a0950>,\n",
       " <matplotlib.lines.Line2D at 0x7f47572a0b10>,\n",
       " <matplotlib.lines.Line2D at 0x7f47572a0cd0>,\n",
       " <matplotlib.lines.Line2D at 0x7f47572a0e90>,\n",
       " <matplotlib.lines.Line2D at 0x7f4757222050>,\n",
       " <matplotlib.lines.Line2D at 0x7f4757222250>,\n",
       " <matplotlib.lines.Line2D at 0x7f4757222410>,\n",
       " <matplotlib.lines.Line2D at 0x7f47572225d0>,\n",
       " <matplotlib.lines.Line2D at 0x7f4757222790>,\n",
       " <matplotlib.lines.Line2D at 0x7f4757222950>,\n",
       " <matplotlib.lines.Line2D at 0x7f4757222b10>,\n",
       " <matplotlib.lines.Line2D at 0x7f4757222cd0>,\n",
       " <matplotlib.lines.Line2D at 0x7f4757222e90>,\n",
       " <matplotlib.lines.Line2D at 0x7f4757224090>,\n",
       " <matplotlib.lines.Line2D at 0x7f4757224250>,\n",
       " <matplotlib.lines.Line2D at 0x7f4757224410>,\n",
       " <matplotlib.lines.Line2D at 0x7f47572245d0>,\n",
       " <matplotlib.lines.Line2D at 0x7f4757224790>,\n",
       " <matplotlib.lines.Line2D at 0x7f4757224950>,\n",
       " <matplotlib.lines.Line2D at 0x7f4757224b10>,\n",
       " <matplotlib.lines.Line2D at 0x7f4757224cd0>,\n",
       " <matplotlib.lines.Line2D at 0x7f4757224e90>,\n",
       " <matplotlib.lines.Line2D at 0x7f4757226090>,\n",
       " <matplotlib.lines.Line2D at 0x7f4757226250>,\n",
       " <matplotlib.lines.Line2D at 0x7f4757226410>,\n",
       " <matplotlib.lines.Line2D at 0x7f47572265d0>,\n",
       " <matplotlib.lines.Line2D at 0x7f4757226790>,\n",
       " <matplotlib.lines.Line2D at 0x7f4757226950>,\n",
       " <matplotlib.lines.Line2D at 0x7f4757226b10>,\n",
       " <matplotlib.lines.Line2D at 0x7f4757226cd0>,\n",
       " <matplotlib.lines.Line2D at 0x7f4757226e90>,\n",
       " <matplotlib.lines.Line2D at 0x7f4757228090>,\n",
       " <matplotlib.lines.Line2D at 0x7f4757228250>,\n",
       " <matplotlib.lines.Line2D at 0x7f4757228410>,\n",
       " <matplotlib.lines.Line2D at 0x7f47572285d0>,\n",
       " <matplotlib.lines.Line2D at 0x7f4757228790>,\n",
       " <matplotlib.lines.Line2D at 0x7f4757228950>,\n",
       " <matplotlib.lines.Line2D at 0x7f4757228b10>,\n",
       " <matplotlib.lines.Line2D at 0x7f4757228cd0>,\n",
       " <matplotlib.lines.Line2D at 0x7f4757228e90>,\n",
       " <matplotlib.lines.Line2D at 0x7f475722b090>,\n",
       " <matplotlib.lines.Line2D at 0x7f475722b250>,\n",
       " <matplotlib.lines.Line2D at 0x7f475722b410>,\n",
       " <matplotlib.lines.Line2D at 0x7f475722b5d0>,\n",
       " <matplotlib.lines.Line2D at 0x7f475722b790>,\n",
       " <matplotlib.lines.Line2D at 0x7f475722b950>,\n",
       " <matplotlib.lines.Line2D at 0x7f475722bb10>,\n",
       " <matplotlib.lines.Line2D at 0x7f475722bcd0>,\n",
       " <matplotlib.lines.Line2D at 0x7f475722be90>,\n",
       " <matplotlib.lines.Line2D at 0x7f475722e090>,\n",
       " <matplotlib.lines.Line2D at 0x7f475722e250>,\n",
       " <matplotlib.lines.Line2D at 0x7f475722e410>,\n",
       " <matplotlib.lines.Line2D at 0x7f475722e5d0>,\n",
       " <matplotlib.lines.Line2D at 0x7f475722e790>,\n",
       " <matplotlib.lines.Line2D at 0x7f475722e950>,\n",
       " <matplotlib.lines.Line2D at 0x7f475722eb10>,\n",
       " <matplotlib.lines.Line2D at 0x7f475722ecd0>,\n",
       " <matplotlib.lines.Line2D at 0x7f475722ee90>,\n",
       " <matplotlib.lines.Line2D at 0x7f4757230090>,\n",
       " <matplotlib.lines.Line2D at 0x7f4757230250>,\n",
       " <matplotlib.lines.Line2D at 0x7f4757230410>,\n",
       " <matplotlib.lines.Line2D at 0x7f47572305d0>,\n",
       " <matplotlib.lines.Line2D at 0x7f4757230790>,\n",
       " <matplotlib.lines.Line2D at 0x7f4757230950>,\n",
       " <matplotlib.lines.Line2D at 0x7f4757230b10>,\n",
       " <matplotlib.lines.Line2D at 0x7f4757230cd0>,\n",
       " <matplotlib.lines.Line2D at 0x7f4757230e90>,\n",
       " <matplotlib.lines.Line2D at 0x7f4757232090>,\n",
       " <matplotlib.lines.Line2D at 0x7f4757232250>,\n",
       " <matplotlib.lines.Line2D at 0x7f4757232410>,\n",
       " <matplotlib.lines.Line2D at 0x7f47572325d0>,\n",
       " <matplotlib.lines.Line2D at 0x7f4757232790>,\n",
       " <matplotlib.lines.Line2D at 0x7f4757232950>,\n",
       " <matplotlib.lines.Line2D at 0x7f4757232b10>,\n",
       " <matplotlib.lines.Line2D at 0x7f4757232cd0>,\n",
       " <matplotlib.lines.Line2D at 0x7f4757232e90>,\n",
       " <matplotlib.lines.Line2D at 0x7f4757234090>,\n",
       " <matplotlib.lines.Line2D at 0x7f4757234250>,\n",
       " <matplotlib.lines.Line2D at 0x7f4757234410>,\n",
       " <matplotlib.lines.Line2D at 0x7f47572345d0>,\n",
       " <matplotlib.lines.Line2D at 0x7f4757234790>,\n",
       " <matplotlib.lines.Line2D at 0x7f4757234950>,\n",
       " <matplotlib.lines.Line2D at 0x7f4757234b10>,\n",
       " <matplotlib.lines.Line2D at 0x7f4757234cd0>,\n",
       " <matplotlib.lines.Line2D at 0x7f4757234e90>,\n",
       " <matplotlib.lines.Line2D at 0x7f4757236090>,\n",
       " <matplotlib.lines.Line2D at 0x7f4757236250>,\n",
       " <matplotlib.lines.Line2D at 0x7f4757236410>,\n",
       " <matplotlib.lines.Line2D at 0x7f47572365d0>,\n",
       " <matplotlib.lines.Line2D at 0x7f4757236790>,\n",
       " <matplotlib.lines.Line2D at 0x7f4757236950>,\n",
       " <matplotlib.lines.Line2D at 0x7f4757236b10>,\n",
       " <matplotlib.lines.Line2D at 0x7f4757236cd0>,\n",
       " <matplotlib.lines.Line2D at 0x7f4757236e90>,\n",
       " <matplotlib.lines.Line2D at 0x7f4757239090>,\n",
       " <matplotlib.lines.Line2D at 0x7f4757239250>,\n",
       " <matplotlib.lines.Line2D at 0x7f4757239410>,\n",
       " <matplotlib.lines.Line2D at 0x7f47572395d0>,\n",
       " <matplotlib.lines.Line2D at 0x7f4757239790>,\n",
       " <matplotlib.lines.Line2D at 0x7f4757239950>,\n",
       " <matplotlib.lines.Line2D at 0x7f4757239b10>,\n",
       " <matplotlib.lines.Line2D at 0x7f4757239cd0>,\n",
       " <matplotlib.lines.Line2D at 0x7f4757239e90>,\n",
       " <matplotlib.lines.Line2D at 0x7f475723b090>,\n",
       " <matplotlib.lines.Line2D at 0x7f475723b250>,\n",
       " <matplotlib.lines.Line2D at 0x7f475723b410>,\n",
       " <matplotlib.lines.Line2D at 0x7f475723b5d0>,\n",
       " <matplotlib.lines.Line2D at 0x7f475723b790>,\n",
       " <matplotlib.lines.Line2D at 0x7f475723b950>,\n",
       " <matplotlib.lines.Line2D at 0x7f475723bb10>,\n",
       " <matplotlib.lines.Line2D at 0x7f475723bcd0>,\n",
       " <matplotlib.lines.Line2D at 0x7f475723be90>,\n",
       " <matplotlib.lines.Line2D at 0x7f475723d090>,\n",
       " <matplotlib.lines.Line2D at 0x7f475723d250>,\n",
       " <matplotlib.lines.Line2D at 0x7f475723d410>,\n",
       " <matplotlib.lines.Line2D at 0x7f475723d5d0>,\n",
       " <matplotlib.lines.Line2D at 0x7f475723d790>,\n",
       " <matplotlib.lines.Line2D at 0x7f475723d950>,\n",
       " <matplotlib.lines.Line2D at 0x7f475723db10>,\n",
       " <matplotlib.lines.Line2D at 0x7f475723dcd0>,\n",
       " <matplotlib.lines.Line2D at 0x7f475723de90>,\n",
       " <matplotlib.lines.Line2D at 0x7f475723f090>,\n",
       " <matplotlib.lines.Line2D at 0x7f475723f250>,\n",
       " <matplotlib.lines.Line2D at 0x7f475723f410>,\n",
       " <matplotlib.lines.Line2D at 0x7f475723f5d0>,\n",
       " <matplotlib.lines.Line2D at 0x7f475723f790>,\n",
       " <matplotlib.lines.Line2D at 0x7f475723f950>,\n",
       " <matplotlib.lines.Line2D at 0x7f475723fb10>,\n",
       " <matplotlib.lines.Line2D at 0x7f475723fcd0>,\n",
       " <matplotlib.lines.Line2D at 0x7f475723fe90>,\n",
       " <matplotlib.lines.Line2D at 0x7f4757243090>,\n",
       " <matplotlib.lines.Line2D at 0x7f4757243250>,\n",
       " <matplotlib.lines.Line2D at 0x7f4757243410>,\n",
       " <matplotlib.lines.Line2D at 0x7f47572435d0>,\n",
       " <matplotlib.lines.Line2D at 0x7f4757243790>,\n",
       " <matplotlib.lines.Line2D at 0x7f4757243950>,\n",
       " <matplotlib.lines.Line2D at 0x7f4757243b10>,\n",
       " <matplotlib.lines.Line2D at 0x7f4757243cd0>,\n",
       " <matplotlib.lines.Line2D at 0x7f4757243e90>,\n",
       " <matplotlib.lines.Line2D at 0x7f4757248090>,\n",
       " <matplotlib.lines.Line2D at 0x7f4757248250>,\n",
       " <matplotlib.lines.Line2D at 0x7f4757248410>,\n",
       " <matplotlib.lines.Line2D at 0x7f47572485d0>,\n",
       " <matplotlib.lines.Line2D at 0x7f4757248790>,\n",
       " <matplotlib.lines.Line2D at 0x7f4757248950>,\n",
       " <matplotlib.lines.Line2D at 0x7f4757248b10>,\n",
       " <matplotlib.lines.Line2D at 0x7f4757248cd0>,\n",
       " <matplotlib.lines.Line2D at 0x7f4757248e90>,\n",
       " <matplotlib.lines.Line2D at 0x7f475724c090>,\n",
       " <matplotlib.lines.Line2D at 0x7f475724c250>,\n",
       " <matplotlib.lines.Line2D at 0x7f475724c410>,\n",
       " <matplotlib.lines.Line2D at 0x7f475724c5d0>,\n",
       " <matplotlib.lines.Line2D at 0x7f475724c790>,\n",
       " <matplotlib.lines.Line2D at 0x7f475724c950>,\n",
       " <matplotlib.lines.Line2D at 0x7f475724cb10>,\n",
       " <matplotlib.lines.Line2D at 0x7f475724ccd0>,\n",
       " <matplotlib.lines.Line2D at 0x7f475724ce90>,\n",
       " <matplotlib.lines.Line2D at 0x7f4757250090>,\n",
       " <matplotlib.lines.Line2D at 0x7f4757250250>,\n",
       " <matplotlib.lines.Line2D at 0x7f4757250410>,\n",
       " <matplotlib.lines.Line2D at 0x7f47572505d0>,\n",
       " <matplotlib.lines.Line2D at 0x7f4757250790>,\n",
       " <matplotlib.lines.Line2D at 0x7f4757250950>,\n",
       " <matplotlib.lines.Line2D at 0x7f4757250b10>,\n",
       " <matplotlib.lines.Line2D at 0x7f4757250cd0>,\n",
       " <matplotlib.lines.Line2D at 0x7f4757250e90>,\n",
       " <matplotlib.lines.Line2D at 0x7f4757254090>,\n",
       " <matplotlib.lines.Line2D at 0x7f4757254250>,\n",
       " <matplotlib.lines.Line2D at 0x7f4757254410>,\n",
       " <matplotlib.lines.Line2D at 0x7f47572545d0>,\n",
       " <matplotlib.lines.Line2D at 0x7f4757254790>,\n",
       " <matplotlib.lines.Line2D at 0x7f4757254950>,\n",
       " <matplotlib.lines.Line2D at 0x7f4757254b10>,\n",
       " <matplotlib.lines.Line2D at 0x7f4757254cd0>,\n",
       " <matplotlib.lines.Line2D at 0x7f4757254e90>,\n",
       " <matplotlib.lines.Line2D at 0x7f4757258090>,\n",
       " <matplotlib.lines.Line2D at 0x7f4757258250>,\n",
       " <matplotlib.lines.Line2D at 0x7f4757258410>,\n",
       " <matplotlib.lines.Line2D at 0x7f47572585d0>,\n",
       " <matplotlib.lines.Line2D at 0x7f4757258790>,\n",
       " <matplotlib.lines.Line2D at 0x7f4757258950>,\n",
       " <matplotlib.lines.Line2D at 0x7f4757258b10>,\n",
       " <matplotlib.lines.Line2D at 0x7f4757258cd0>,\n",
       " <matplotlib.lines.Line2D at 0x7f4757258e90>,\n",
       " <matplotlib.lines.Line2D at 0x7f475725c090>,\n",
       " <matplotlib.lines.Line2D at 0x7f475725c250>,\n",
       " <matplotlib.lines.Line2D at 0x7f475725c410>,\n",
       " <matplotlib.lines.Line2D at 0x7f475725c5d0>,\n",
       " <matplotlib.lines.Line2D at 0x7f475725c790>,\n",
       " <matplotlib.lines.Line2D at 0x7f475725c950>,\n",
       " <matplotlib.lines.Line2D at 0x7f475725cb10>,\n",
       " <matplotlib.lines.Line2D at 0x7f475725ccd0>,\n",
       " <matplotlib.lines.Line2D at 0x7f475725ce90>,\n",
       " <matplotlib.lines.Line2D at 0x7f4757261090>,\n",
       " <matplotlib.lines.Line2D at 0x7f4757261250>,\n",
       " <matplotlib.lines.Line2D at 0x7f4757261410>,\n",
       " <matplotlib.lines.Line2D at 0x7f47572615d0>,\n",
       " <matplotlib.lines.Line2D at 0x7f4757261790>,\n",
       " <matplotlib.lines.Line2D at 0x7f4757261950>,\n",
       " <matplotlib.lines.Line2D at 0x7f4757261b10>,\n",
       " <matplotlib.lines.Line2D at 0x7f4757261cd0>,\n",
       " <matplotlib.lines.Line2D at 0x7f4757261e90>,\n",
       " <matplotlib.lines.Line2D at 0x7f47571e5090>,\n",
       " <matplotlib.lines.Line2D at 0x7f47571e5250>,\n",
       " <matplotlib.lines.Line2D at 0x7f47571e5410>,\n",
       " <matplotlib.lines.Line2D at 0x7f47571e55d0>,\n",
       " <matplotlib.lines.Line2D at 0x7f47571e5790>,\n",
       " <matplotlib.lines.Line2D at 0x7f47571e5950>,\n",
       " <matplotlib.lines.Line2D at 0x7f47571e5b10>,\n",
       " <matplotlib.lines.Line2D at 0x7f47571e5cd0>,\n",
       " <matplotlib.lines.Line2D at 0x7f47571e5e90>,\n",
       " <matplotlib.lines.Line2D at 0x7f47571ea090>,\n",
       " <matplotlib.lines.Line2D at 0x7f47571ea250>,\n",
       " <matplotlib.lines.Line2D at 0x7f47571ea410>,\n",
       " <matplotlib.lines.Line2D at 0x7f47571ea5d0>,\n",
       " <matplotlib.lines.Line2D at 0x7f47571ea790>,\n",
       " <matplotlib.lines.Line2D at 0x7f47571ea950>,\n",
       " <matplotlib.lines.Line2D at 0x7f47571eab10>,\n",
       " <matplotlib.lines.Line2D at 0x7f47571eacd0>,\n",
       " <matplotlib.lines.Line2D at 0x7f47571eae90>,\n",
       " <matplotlib.lines.Line2D at 0x7f47571ee090>,\n",
       " <matplotlib.lines.Line2D at 0x7f47571ee250>,\n",
       " <matplotlib.lines.Line2D at 0x7f47571ee410>,\n",
       " <matplotlib.lines.Line2D at 0x7f47571ee5d0>,\n",
       " <matplotlib.lines.Line2D at 0x7f47571ee790>,\n",
       " <matplotlib.lines.Line2D at 0x7f47571ee950>,\n",
       " <matplotlib.lines.Line2D at 0x7f47571eeb10>,\n",
       " <matplotlib.lines.Line2D at 0x7f47571eecd0>,\n",
       " <matplotlib.lines.Line2D at 0x7f47571eee90>,\n",
       " <matplotlib.lines.Line2D at 0x7f47571f2090>,\n",
       " <matplotlib.lines.Line2D at 0x7f47571f2250>,\n",
       " <matplotlib.lines.Line2D at 0x7f47571f2410>,\n",
       " <matplotlib.lines.Line2D at 0x7f47571f25d0>,\n",
       " <matplotlib.lines.Line2D at 0x7f47571f2790>,\n",
       " <matplotlib.lines.Line2D at 0x7f47571f2950>,\n",
       " <matplotlib.lines.Line2D at 0x7f47571f2b10>,\n",
       " <matplotlib.lines.Line2D at 0x7f47571f2cd0>,\n",
       " <matplotlib.lines.Line2D at 0x7f47571f2e90>,\n",
       " <matplotlib.lines.Line2D at 0x7f47571f6090>,\n",
       " <matplotlib.lines.Line2D at 0x7f47571f6250>,\n",
       " <matplotlib.lines.Line2D at 0x7f47571f6410>,\n",
       " <matplotlib.lines.Line2D at 0x7f47571f65d0>,\n",
       " <matplotlib.lines.Line2D at 0x7f47571f6790>,\n",
       " <matplotlib.lines.Line2D at 0x7f47571f6950>,\n",
       " <matplotlib.lines.Line2D at 0x7f47571f6b10>,\n",
       " <matplotlib.lines.Line2D at 0x7f47571f6cd0>,\n",
       " <matplotlib.lines.Line2D at 0x7f47571f6e90>,\n",
       " <matplotlib.lines.Line2D at 0x7f47571fb090>,\n",
       " <matplotlib.lines.Line2D at 0x7f47571fb250>,\n",
       " <matplotlib.lines.Line2D at 0x7f47571fb410>,\n",
       " <matplotlib.lines.Line2D at 0x7f47571fb5d0>,\n",
       " <matplotlib.lines.Line2D at 0x7f47571fb790>,\n",
       " <matplotlib.lines.Line2D at 0x7f47571fb950>,\n",
       " <matplotlib.lines.Line2D at 0x7f47571fbb10>,\n",
       " <matplotlib.lines.Line2D at 0x7f47571fbcd0>,\n",
       " <matplotlib.lines.Line2D at 0x7f47571fbe90>,\n",
       " <matplotlib.lines.Line2D at 0x7f47571ff090>,\n",
       " <matplotlib.lines.Line2D at 0x7f47571ff250>,\n",
       " <matplotlib.lines.Line2D at 0x7f47571ff410>,\n",
       " <matplotlib.lines.Line2D at 0x7f47571ff5d0>,\n",
       " <matplotlib.lines.Line2D at 0x7f47571ff790>,\n",
       " <matplotlib.lines.Line2D at 0x7f47571ff950>,\n",
       " <matplotlib.lines.Line2D at 0x7f47571ffb10>,\n",
       " <matplotlib.lines.Line2D at 0x7f47571ffcd0>,\n",
       " <matplotlib.lines.Line2D at 0x7f47571ffe90>,\n",
       " <matplotlib.lines.Line2D at 0x7f4757203090>,\n",
       " <matplotlib.lines.Line2D at 0x7f4757203250>,\n",
       " <matplotlib.lines.Line2D at 0x7f4757203410>,\n",
       " <matplotlib.lines.Line2D at 0x7f47572035d0>,\n",
       " <matplotlib.lines.Line2D at 0x7f4757203790>,\n",
       " <matplotlib.lines.Line2D at 0x7f4757203950>,\n",
       " <matplotlib.lines.Line2D at 0x7f4757203b10>,\n",
       " <matplotlib.lines.Line2D at 0x7f4757203cd0>,\n",
       " <matplotlib.lines.Line2D at 0x7f4757203e90>,\n",
       " <matplotlib.lines.Line2D at 0x7f4757207090>,\n",
       " <matplotlib.lines.Line2D at 0x7f4757207250>,\n",
       " <matplotlib.lines.Line2D at 0x7f4757207410>,\n",
       " <matplotlib.lines.Line2D at 0x7f47572075d0>,\n",
       " <matplotlib.lines.Line2D at 0x7f4757207790>,\n",
       " <matplotlib.lines.Line2D at 0x7f4757207950>,\n",
       " <matplotlib.lines.Line2D at 0x7f4757207b10>,\n",
       " <matplotlib.lines.Line2D at 0x7f4757207cd0>,\n",
       " <matplotlib.lines.Line2D at 0x7f4757207e90>,\n",
       " <matplotlib.lines.Line2D at 0x7f475720b090>,\n",
       " <matplotlib.lines.Line2D at 0x7f475720b250>,\n",
       " <matplotlib.lines.Line2D at 0x7f475720b410>,\n",
       " <matplotlib.lines.Line2D at 0x7f475720b5d0>,\n",
       " <matplotlib.lines.Line2D at 0x7f475720b790>,\n",
       " <matplotlib.lines.Line2D at 0x7f475720b950>,\n",
       " <matplotlib.lines.Line2D at 0x7f475720bb10>,\n",
       " <matplotlib.lines.Line2D at 0x7f475720bcd0>,\n",
       " <matplotlib.lines.Line2D at 0x7f475720be90>,\n",
       " <matplotlib.lines.Line2D at 0x7f475720f090>,\n",
       " <matplotlib.lines.Line2D at 0x7f475720f250>,\n",
       " <matplotlib.lines.Line2D at 0x7f475720f410>,\n",
       " <matplotlib.lines.Line2D at 0x7f475720f5d0>,\n",
       " <matplotlib.lines.Line2D at 0x7f475720f790>,\n",
       " <matplotlib.lines.Line2D at 0x7f475720f950>,\n",
       " <matplotlib.lines.Line2D at 0x7f475720fb10>,\n",
       " <matplotlib.lines.Line2D at 0x7f475720fcd0>,\n",
       " <matplotlib.lines.Line2D at 0x7f475720fe90>,\n",
       " <matplotlib.lines.Line2D at 0x7f4757215090>,\n",
       " <matplotlib.lines.Line2D at 0x7f4757215250>,\n",
       " <matplotlib.lines.Line2D at 0x7f4757215410>,\n",
       " <matplotlib.lines.Line2D at 0x7f47572155d0>,\n",
       " <matplotlib.lines.Line2D at 0x7f4757215790>,\n",
       " <matplotlib.lines.Line2D at 0x7f4757215950>,\n",
       " <matplotlib.lines.Line2D at 0x7f4757215b10>,\n",
       " <matplotlib.lines.Line2D at 0x7f4757215cd0>,\n",
       " <matplotlib.lines.Line2D at 0x7f4757215e90>,\n",
       " <matplotlib.lines.Line2D at 0x7f4757219090>,\n",
       " <matplotlib.lines.Line2D at 0x7f4757219250>,\n",
       " <matplotlib.lines.Line2D at 0x7f4757219410>,\n",
       " <matplotlib.lines.Line2D at 0x7f47572195d0>,\n",
       " <matplotlib.lines.Line2D at 0x7f4757219790>,\n",
       " <matplotlib.lines.Line2D at 0x7f4757219950>,\n",
       " <matplotlib.lines.Line2D at 0x7f4757219b10>,\n",
       " <matplotlib.lines.Line2D at 0x7f4757219cd0>,\n",
       " <matplotlib.lines.Line2D at 0x7f4757219e90>,\n",
       " <matplotlib.lines.Line2D at 0x7f475721d090>,\n",
       " <matplotlib.lines.Line2D at 0x7f475721d250>,\n",
       " <matplotlib.lines.Line2D at 0x7f475721d410>,\n",
       " <matplotlib.lines.Line2D at 0x7f475721d5d0>,\n",
       " <matplotlib.lines.Line2D at 0x7f475721d790>,\n",
       " <matplotlib.lines.Line2D at 0x7f475721d950>,\n",
       " <matplotlib.lines.Line2D at 0x7f475721db10>,\n",
       " <matplotlib.lines.Line2D at 0x7f475721dcd0>,\n",
       " <matplotlib.lines.Line2D at 0x7f475721de90>,\n",
       " <matplotlib.lines.Line2D at 0x7f4757221090>,\n",
       " <matplotlib.lines.Line2D at 0x7f4757221250>,\n",
       " <matplotlib.lines.Line2D at 0x7f4757221410>,\n",
       " <matplotlib.lines.Line2D at 0x7f47572215d0>,\n",
       " <matplotlib.lines.Line2D at 0x7f4757221790>,\n",
       " <matplotlib.lines.Line2D at 0x7f4757221950>,\n",
       " <matplotlib.lines.Line2D at 0x7f4757221b10>,\n",
       " <matplotlib.lines.Line2D at 0x7f4757221cd0>,\n",
       " <matplotlib.lines.Line2D at 0x7f4757221e90>,\n",
       " <matplotlib.lines.Line2D at 0x7f47571a5090>,\n",
       " <matplotlib.lines.Line2D at 0x7f47571a5250>,\n",
       " <matplotlib.lines.Line2D at 0x7f47571a5410>,\n",
       " <matplotlib.lines.Line2D at 0x7f47571a55d0>,\n",
       " <matplotlib.lines.Line2D at 0x7f47571a5790>,\n",
       " <matplotlib.lines.Line2D at 0x7f47571a5950>,\n",
       " <matplotlib.lines.Line2D at 0x7f47571a5b10>,\n",
       " <matplotlib.lines.Line2D at 0x7f47571a5cd0>,\n",
       " <matplotlib.lines.Line2D at 0x7f47571a5e90>,\n",
       " <matplotlib.lines.Line2D at 0x7f47571aa090>,\n",
       " <matplotlib.lines.Line2D at 0x7f47571aa250>,\n",
       " <matplotlib.lines.Line2D at 0x7f47571aa410>,\n",
       " <matplotlib.lines.Line2D at 0x7f47571aa5d0>,\n",
       " <matplotlib.lines.Line2D at 0x7f47571aa790>,\n",
       " <matplotlib.lines.Line2D at 0x7f47571aa950>,\n",
       " <matplotlib.lines.Line2D at 0x7f47571aab10>,\n",
       " <matplotlib.lines.Line2D at 0x7f47571aacd0>,\n",
       " <matplotlib.lines.Line2D at 0x7f47571aae90>,\n",
       " <matplotlib.lines.Line2D at 0x7f47571ae090>,\n",
       " <matplotlib.lines.Line2D at 0x7f47571ae250>,\n",
       " <matplotlib.lines.Line2D at 0x7f47571ae410>,\n",
       " <matplotlib.lines.Line2D at 0x7f47571ae5d0>,\n",
       " <matplotlib.lines.Line2D at 0x7f47571ae790>,\n",
       " <matplotlib.lines.Line2D at 0x7f47571ae950>,\n",
       " <matplotlib.lines.Line2D at 0x7f47571aeb10>,\n",
       " <matplotlib.lines.Line2D at 0x7f47571aecd0>,\n",
       " <matplotlib.lines.Line2D at 0x7f47571aee90>,\n",
       " <matplotlib.lines.Line2D at 0x7f47571b2090>,\n",
       " <matplotlib.lines.Line2D at 0x7f47571b2250>,\n",
       " <matplotlib.lines.Line2D at 0x7f47571b2410>,\n",
       " <matplotlib.lines.Line2D at 0x7f47571b25d0>,\n",
       " <matplotlib.lines.Line2D at 0x7f47571b2790>,\n",
       " <matplotlib.lines.Line2D at 0x7f47571b2950>,\n",
       " <matplotlib.lines.Line2D at 0x7f47571b2b10>,\n",
       " <matplotlib.lines.Line2D at 0x7f47571b2cd0>,\n",
       " <matplotlib.lines.Line2D at 0x7f47571b2e90>,\n",
       " <matplotlib.lines.Line2D at 0x7f47571b6090>,\n",
       " <matplotlib.lines.Line2D at 0x7f47571b6250>,\n",
       " <matplotlib.lines.Line2D at 0x7f47571b6410>,\n",
       " <matplotlib.lines.Line2D at 0x7f47571b65d0>,\n",
       " <matplotlib.lines.Line2D at 0x7f47571b6790>,\n",
       " <matplotlib.lines.Line2D at 0x7f47571b6950>,\n",
       " <matplotlib.lines.Line2D at 0x7f47571b6b10>,\n",
       " <matplotlib.lines.Line2D at 0x7f47571b6cd0>,\n",
       " <matplotlib.lines.Line2D at 0x7f47571b6e90>,\n",
       " <matplotlib.lines.Line2D at 0x7f47571bb090>,\n",
       " <matplotlib.lines.Line2D at 0x7f47571bb250>,\n",
       " <matplotlib.lines.Line2D at 0x7f47571bb410>,\n",
       " <matplotlib.lines.Line2D at 0x7f47571bb5d0>,\n",
       " <matplotlib.lines.Line2D at 0x7f47571bb790>,\n",
       " <matplotlib.lines.Line2D at 0x7f47571bb950>,\n",
       " <matplotlib.lines.Line2D at 0x7f47571bbb10>,\n",
       " <matplotlib.lines.Line2D at 0x7f47571bbcd0>,\n",
       " <matplotlib.lines.Line2D at 0x7f47571bbe90>,\n",
       " <matplotlib.lines.Line2D at 0x7f47571bf090>,\n",
       " <matplotlib.lines.Line2D at 0x7f47571bf250>,\n",
       " <matplotlib.lines.Line2D at 0x7f47571bf410>,\n",
       " <matplotlib.lines.Line2D at 0x7f47571bf5d0>,\n",
       " <matplotlib.lines.Line2D at 0x7f47571bf790>,\n",
       " <matplotlib.lines.Line2D at 0x7f47571bf950>,\n",
       " <matplotlib.lines.Line2D at 0x7f47571bfb10>,\n",
       " <matplotlib.lines.Line2D at 0x7f47571bfcd0>,\n",
       " <matplotlib.lines.Line2D at 0x7f47571bfe90>,\n",
       " <matplotlib.lines.Line2D at 0x7f47571c4090>,\n",
       " <matplotlib.lines.Line2D at 0x7f47571c4250>,\n",
       " <matplotlib.lines.Line2D at 0x7f47571c4410>,\n",
       " <matplotlib.lines.Line2D at 0x7f47571c45d0>,\n",
       " <matplotlib.lines.Line2D at 0x7f47571c4790>,\n",
       " <matplotlib.lines.Line2D at 0x7f47571c4950>,\n",
       " <matplotlib.lines.Line2D at 0x7f47571c4b10>,\n",
       " <matplotlib.lines.Line2D at 0x7f47571c4cd0>,\n",
       " <matplotlib.lines.Line2D at 0x7f47571c4e90>,\n",
       " <matplotlib.lines.Line2D at 0x7f47571c8090>,\n",
       " <matplotlib.lines.Line2D at 0x7f47571c8250>,\n",
       " <matplotlib.lines.Line2D at 0x7f47571c8410>,\n",
       " <matplotlib.lines.Line2D at 0x7f47571c85d0>,\n",
       " <matplotlib.lines.Line2D at 0x7f47571c8790>,\n",
       " <matplotlib.lines.Line2D at 0x7f47571c8950>,\n",
       " <matplotlib.lines.Line2D at 0x7f47571c8b10>,\n",
       " <matplotlib.lines.Line2D at 0x7f47571c8cd0>,\n",
       " <matplotlib.lines.Line2D at 0x7f47571c8e90>,\n",
       " <matplotlib.lines.Line2D at 0x7f47571cc090>,\n",
       " <matplotlib.lines.Line2D at 0x7f47571cc250>,\n",
       " <matplotlib.lines.Line2D at 0x7f47571cc410>,\n",
       " <matplotlib.lines.Line2D at 0x7f47571cc5d0>,\n",
       " <matplotlib.lines.Line2D at 0x7f47571cc790>,\n",
       " <matplotlib.lines.Line2D at 0x7f47571cc950>,\n",
       " <matplotlib.lines.Line2D at 0x7f47571ccb10>,\n",
       " <matplotlib.lines.Line2D at 0x7f47571cccd0>,\n",
       " <matplotlib.lines.Line2D at 0x7f47571cce90>,\n",
       " <matplotlib.lines.Line2D at 0x7f47571d0090>,\n",
       " <matplotlib.lines.Line2D at 0x7f47571d0250>,\n",
       " <matplotlib.lines.Line2D at 0x7f47571d0410>,\n",
       " <matplotlib.lines.Line2D at 0x7f47571d05d0>,\n",
       " <matplotlib.lines.Line2D at 0x7f47571d0790>,\n",
       " <matplotlib.lines.Line2D at 0x7f47571d0950>,\n",
       " <matplotlib.lines.Line2D at 0x7f47571d0b10>,\n",
       " <matplotlib.lines.Line2D at 0x7f47571d0cd0>,\n",
       " <matplotlib.lines.Line2D at 0x7f47571d0e90>,\n",
       " <matplotlib.lines.Line2D at 0x7f47571d4090>,\n",
       " <matplotlib.lines.Line2D at 0x7f47571d4250>,\n",
       " <matplotlib.lines.Line2D at 0x7f47571d4410>,\n",
       " <matplotlib.lines.Line2D at 0x7f47571d45d0>,\n",
       " <matplotlib.lines.Line2D at 0x7f47571d4790>,\n",
       " <matplotlib.lines.Line2D at 0x7f47571d4950>,\n",
       " <matplotlib.lines.Line2D at 0x7f47571d4b10>,\n",
       " <matplotlib.lines.Line2D at 0x7f47571d4cd0>,\n",
       " <matplotlib.lines.Line2D at 0x7f47571d4e90>,\n",
       " <matplotlib.lines.Line2D at 0x7f47571d7090>,\n",
       " <matplotlib.lines.Line2D at 0x7f47571d7250>,\n",
       " <matplotlib.lines.Line2D at 0x7f47571d7410>,\n",
       " <matplotlib.lines.Line2D at 0x7f47571d75d0>,\n",
       " <matplotlib.lines.Line2D at 0x7f47571d7790>,\n",
       " <matplotlib.lines.Line2D at 0x7f47571d7950>,\n",
       " <matplotlib.lines.Line2D at 0x7f47571d7b10>,\n",
       " <matplotlib.lines.Line2D at 0x7f47571d7cd0>,\n",
       " <matplotlib.lines.Line2D at 0x7f47571d7e90>,\n",
       " <matplotlib.lines.Line2D at 0x7f47571dc090>,\n",
       " <matplotlib.lines.Line2D at 0x7f47571dc250>,\n",
       " <matplotlib.lines.Line2D at 0x7f47571dc410>,\n",
       " <matplotlib.lines.Line2D at 0x7f47571dc5d0>,\n",
       " <matplotlib.lines.Line2D at 0x7f47571dc790>,\n",
       " <matplotlib.lines.Line2D at 0x7f47571dc950>,\n",
       " <matplotlib.lines.Line2D at 0x7f47571dcb10>,\n",
       " <matplotlib.lines.Line2D at 0x7f47571dccd0>,\n",
       " <matplotlib.lines.Line2D at 0x7f47571dce90>,\n",
       " <matplotlib.lines.Line2D at 0x7f4757162050>,\n",
       " <matplotlib.lines.Line2D at 0x7f4757162250>,\n",
       " <matplotlib.lines.Line2D at 0x7f4757162410>,\n",
       " <matplotlib.lines.Line2D at 0x7f47571625d0>,\n",
       " <matplotlib.lines.Line2D at 0x7f4757162790>,\n",
       " <matplotlib.lines.Line2D at 0x7f4757162950>,\n",
       " <matplotlib.lines.Line2D at 0x7f4757162b10>,\n",
       " <matplotlib.lines.Line2D at 0x7f4757162cd0>,\n",
       " <matplotlib.lines.Line2D at 0x7f4757162e90>,\n",
       " <matplotlib.lines.Line2D at 0x7f4757166050>,\n",
       " <matplotlib.lines.Line2D at 0x7f4757166250>,\n",
       " <matplotlib.lines.Line2D at 0x7f4757166410>,\n",
       " <matplotlib.lines.Line2D at 0x7f47571665d0>,\n",
       " <matplotlib.lines.Line2D at 0x7f4757166790>,\n",
       " <matplotlib.lines.Line2D at 0x7f4757166950>,\n",
       " <matplotlib.lines.Line2D at 0x7f4757166b10>,\n",
       " <matplotlib.lines.Line2D at 0x7f4757166cd0>,\n",
       " <matplotlib.lines.Line2D at 0x7f4757166e90>,\n",
       " <matplotlib.lines.Line2D at 0x7f4757169090>,\n",
       " <matplotlib.lines.Line2D at 0x7f4757169250>,\n",
       " <matplotlib.lines.Line2D at 0x7f4757169410>,\n",
       " <matplotlib.lines.Line2D at 0x7f47571695d0>,\n",
       " <matplotlib.lines.Line2D at 0x7f4757169790>,\n",
       " <matplotlib.lines.Line2D at 0x7f4757169950>,\n",
       " <matplotlib.lines.Line2D at 0x7f4757169b10>,\n",
       " <matplotlib.lines.Line2D at 0x7f4757169cd0>,\n",
       " <matplotlib.lines.Line2D at 0x7f4757169e90>,\n",
       " <matplotlib.lines.Line2D at 0x7f475716d090>,\n",
       " <matplotlib.lines.Line2D at 0x7f475716d250>,\n",
       " <matplotlib.lines.Line2D at 0x7f475716d410>,\n",
       " <matplotlib.lines.Line2D at 0x7f475716d5d0>,\n",
       " <matplotlib.lines.Line2D at 0x7f475716d790>,\n",
       " <matplotlib.lines.Line2D at 0x7f475716d950>,\n",
       " <matplotlib.lines.Line2D at 0x7f475716db10>,\n",
       " <matplotlib.lines.Line2D at 0x7f475716dcd0>,\n",
       " <matplotlib.lines.Line2D at 0x7f475716de90>,\n",
       " <matplotlib.lines.Line2D at 0x7f4757171090>,\n",
       " <matplotlib.lines.Line2D at 0x7f4757171250>,\n",
       " <matplotlib.lines.Line2D at 0x7f4757171410>,\n",
       " <matplotlib.lines.Line2D at 0x7f47571715d0>,\n",
       " <matplotlib.lines.Line2D at 0x7f4757171790>,\n",
       " <matplotlib.lines.Line2D at 0x7f4757171950>,\n",
       " <matplotlib.lines.Line2D at 0x7f4757171b10>,\n",
       " <matplotlib.lines.Line2D at 0x7f4757171cd0>,\n",
       " <matplotlib.lines.Line2D at 0x7f4757171e90>,\n",
       " <matplotlib.lines.Line2D at 0x7f4757176090>,\n",
       " <matplotlib.lines.Line2D at 0x7f4757176250>,\n",
       " <matplotlib.lines.Line2D at 0x7f4757176410>,\n",
       " <matplotlib.lines.Line2D at 0x7f47571765d0>,\n",
       " <matplotlib.lines.Line2D at 0x7f4757176790>,\n",
       " <matplotlib.lines.Line2D at 0x7f4757176950>,\n",
       " <matplotlib.lines.Line2D at 0x7f4757176b10>,\n",
       " <matplotlib.lines.Line2D at 0x7f4757176cd0>,\n",
       " <matplotlib.lines.Line2D at 0x7f4757176e90>,\n",
       " <matplotlib.lines.Line2D at 0x7f475717a090>,\n",
       " <matplotlib.lines.Line2D at 0x7f475717a250>,\n",
       " <matplotlib.lines.Line2D at 0x7f475717a410>,\n",
       " <matplotlib.lines.Line2D at 0x7f475717a5d0>,\n",
       " <matplotlib.lines.Line2D at 0x7f475717a790>,\n",
       " <matplotlib.lines.Line2D at 0x7f475717a950>,\n",
       " <matplotlib.lines.Line2D at 0x7f475717ab10>,\n",
       " <matplotlib.lines.Line2D at 0x7f475717acd0>,\n",
       " <matplotlib.lines.Line2D at 0x7f475717ae90>,\n",
       " <matplotlib.lines.Line2D at 0x7f475717e090>,\n",
       " <matplotlib.lines.Line2D at 0x7f475717e250>,\n",
       " <matplotlib.lines.Line2D at 0x7f475717e410>,\n",
       " <matplotlib.lines.Line2D at 0x7f475717e5d0>,\n",
       " <matplotlib.lines.Line2D at 0x7f475717e790>,\n",
       " <matplotlib.lines.Line2D at 0x7f475717e950>,\n",
       " <matplotlib.lines.Line2D at 0x7f475717eb10>,\n",
       " <matplotlib.lines.Line2D at 0x7f475717ecd0>,\n",
       " <matplotlib.lines.Line2D at 0x7f475717ee90>,\n",
       " <matplotlib.lines.Line2D at 0x7f4757182090>,\n",
       " <matplotlib.lines.Line2D at 0x7f4757182250>,\n",
       " <matplotlib.lines.Line2D at 0x7f4757182410>,\n",
       " <matplotlib.lines.Line2D at 0x7f47571825d0>,\n",
       " <matplotlib.lines.Line2D at 0x7f4757182790>,\n",
       " <matplotlib.lines.Line2D at 0x7f4757182950>,\n",
       " <matplotlib.lines.Line2D at 0x7f4757182b10>,\n",
       " <matplotlib.lines.Line2D at 0x7f4757182cd0>,\n",
       " <matplotlib.lines.Line2D at 0x7f4757182e90>,\n",
       " <matplotlib.lines.Line2D at 0x7f4757186090>,\n",
       " <matplotlib.lines.Line2D at 0x7f4757186250>,\n",
       " <matplotlib.lines.Line2D at 0x7f4757186410>,\n",
       " <matplotlib.lines.Line2D at 0x7f47571865d0>,\n",
       " <matplotlib.lines.Line2D at 0x7f4757186790>,\n",
       " <matplotlib.lines.Line2D at 0x7f4757186950>,\n",
       " <matplotlib.lines.Line2D at 0x7f4757186b10>,\n",
       " <matplotlib.lines.Line2D at 0x7f4757186cd0>,\n",
       " <matplotlib.lines.Line2D at 0x7f4757186e90>,\n",
       " <matplotlib.lines.Line2D at 0x7f475718c090>,\n",
       " <matplotlib.lines.Line2D at 0x7f475718c250>,\n",
       " <matplotlib.lines.Line2D at 0x7f475718c410>,\n",
       " <matplotlib.lines.Line2D at 0x7f475718c5d0>,\n",
       " <matplotlib.lines.Line2D at 0x7f475718c790>,\n",
       " <matplotlib.lines.Line2D at 0x7f475718c950>,\n",
       " <matplotlib.lines.Line2D at 0x7f475718cb10>,\n",
       " <matplotlib.lines.Line2D at 0x7f475718ccd0>,\n",
       " <matplotlib.lines.Line2D at 0x7f475718ce90>,\n",
       " <matplotlib.lines.Line2D at 0x7f4757190090>,\n",
       " <matplotlib.lines.Line2D at 0x7f4757190250>,\n",
       " <matplotlib.lines.Line2D at 0x7f4757190410>,\n",
       " <matplotlib.lines.Line2D at 0x7f47571905d0>,\n",
       " <matplotlib.lines.Line2D at 0x7f4757190790>,\n",
       " <matplotlib.lines.Line2D at 0x7f4757190950>,\n",
       " <matplotlib.lines.Line2D at 0x7f4757190b10>,\n",
       " <matplotlib.lines.Line2D at 0x7f4757190cd0>,\n",
       " <matplotlib.lines.Line2D at 0x7f4757190e90>,\n",
       " <matplotlib.lines.Line2D at 0x7f4757194090>,\n",
       " <matplotlib.lines.Line2D at 0x7f4757194250>,\n",
       " <matplotlib.lines.Line2D at 0x7f4757194410>,\n",
       " <matplotlib.lines.Line2D at 0x7f47571945d0>,\n",
       " <matplotlib.lines.Line2D at 0x7f4757194790>,\n",
       " <matplotlib.lines.Line2D at 0x7f4757194950>,\n",
       " <matplotlib.lines.Line2D at 0x7f4757194b10>,\n",
       " <matplotlib.lines.Line2D at 0x7f4757194cd0>,\n",
       " <matplotlib.lines.Line2D at 0x7f4757194e90>,\n",
       " <matplotlib.lines.Line2D at 0x7f4757198090>,\n",
       " <matplotlib.lines.Line2D at 0x7f4757198250>,\n",
       " <matplotlib.lines.Line2D at 0x7f4757198410>,\n",
       " <matplotlib.lines.Line2D at 0x7f47571985d0>,\n",
       " <matplotlib.lines.Line2D at 0x7f4757198790>,\n",
       " <matplotlib.lines.Line2D at 0x7f4757198950>,\n",
       " <matplotlib.lines.Line2D at 0x7f4757198b10>,\n",
       " <matplotlib.lines.Line2D at 0x7f4757198cd0>,\n",
       " <matplotlib.lines.Line2D at 0x7f4757198e90>,\n",
       " <matplotlib.lines.Line2D at 0x7f475719c090>,\n",
       " <matplotlib.lines.Line2D at 0x7f475719c250>,\n",
       " <matplotlib.lines.Line2D at 0x7f475719c410>,\n",
       " <matplotlib.lines.Line2D at 0x7f475719c5d0>,\n",
       " <matplotlib.lines.Line2D at 0x7f475719c790>,\n",
       " <matplotlib.lines.Line2D at 0x7f475719c950>,\n",
       " <matplotlib.lines.Line2D at 0x7f475719cb10>,\n",
       " <matplotlib.lines.Line2D at 0x7f475719ccd0>,\n",
       " <matplotlib.lines.Line2D at 0x7f475719ce90>,\n",
       " <matplotlib.lines.Line2D at 0x7f47571a0090>,\n",
       " <matplotlib.lines.Line2D at 0x7f47571a0250>,\n",
       " <matplotlib.lines.Line2D at 0x7f47571a0410>,\n",
       " <matplotlib.lines.Line2D at 0x7f47571a05d0>,\n",
       " <matplotlib.lines.Line2D at 0x7f47571a0790>,\n",
       " <matplotlib.lines.Line2D at 0x7f47571a0950>,\n",
       " <matplotlib.lines.Line2D at 0x7f47571a0b10>,\n",
       " <matplotlib.lines.Line2D at 0x7f47571a0cd0>,\n",
       " <matplotlib.lines.Line2D at 0x7f47571a0e90>,\n",
       " <matplotlib.lines.Line2D at 0x7f4757125090>,\n",
       " <matplotlib.lines.Line2D at 0x7f4757125250>,\n",
       " <matplotlib.lines.Line2D at 0x7f4757125410>,\n",
       " <matplotlib.lines.Line2D at 0x7f47571255d0>,\n",
       " <matplotlib.lines.Line2D at 0x7f4757125790>,\n",
       " <matplotlib.lines.Line2D at 0x7f4757125950>,\n",
       " <matplotlib.lines.Line2D at 0x7f4757125b10>,\n",
       " <matplotlib.lines.Line2D at 0x7f4757125cd0>,\n",
       " <matplotlib.lines.Line2D at 0x7f4757125e90>,\n",
       " <matplotlib.lines.Line2D at 0x7f4757129090>,\n",
       " <matplotlib.lines.Line2D at 0x7f4757129250>,\n",
       " <matplotlib.lines.Line2D at 0x7f4757129410>,\n",
       " <matplotlib.lines.Line2D at 0x7f47571295d0>,\n",
       " <matplotlib.lines.Line2D at 0x7f4757129790>,\n",
       " <matplotlib.lines.Line2D at 0x7f4757129950>,\n",
       " <matplotlib.lines.Line2D at 0x7f4757129b10>,\n",
       " <matplotlib.lines.Line2D at 0x7f4757129cd0>,\n",
       " <matplotlib.lines.Line2D at 0x7f4757129e90>,\n",
       " <matplotlib.lines.Line2D at 0x7f475712d090>,\n",
       " <matplotlib.lines.Line2D at 0x7f475712d250>,\n",
       " <matplotlib.lines.Line2D at 0x7f475712d410>,\n",
       " <matplotlib.lines.Line2D at 0x7f475712d5d0>,\n",
       " <matplotlib.lines.Line2D at 0x7f475712d790>,\n",
       " <matplotlib.lines.Line2D at 0x7f475712d950>,\n",
       " <matplotlib.lines.Line2D at 0x7f475712db10>,\n",
       " <matplotlib.lines.Line2D at 0x7f475712dcd0>,\n",
       " <matplotlib.lines.Line2D at 0x7f475712de90>,\n",
       " <matplotlib.lines.Line2D at 0x7f4757132090>,\n",
       " <matplotlib.lines.Line2D at 0x7f4757132250>,\n",
       " <matplotlib.lines.Line2D at 0x7f4757132410>,\n",
       " <matplotlib.lines.Line2D at 0x7f47571325d0>,\n",
       " <matplotlib.lines.Line2D at 0x7f4757132790>,\n",
       " <matplotlib.lines.Line2D at 0x7f4757132950>,\n",
       " <matplotlib.lines.Line2D at 0x7f4757132b10>,\n",
       " <matplotlib.lines.Line2D at 0x7f4757132cd0>,\n",
       " <matplotlib.lines.Line2D at 0x7f4757132e90>,\n",
       " <matplotlib.lines.Line2D at 0x7f4757136090>,\n",
       " <matplotlib.lines.Line2D at 0x7f4757136250>,\n",
       " <matplotlib.lines.Line2D at 0x7f4757136410>,\n",
       " <matplotlib.lines.Line2D at 0x7f47571365d0>,\n",
       " <matplotlib.lines.Line2D at 0x7f4757136790>,\n",
       " <matplotlib.lines.Line2D at 0x7f4757136950>,\n",
       " <matplotlib.lines.Line2D at 0x7f4757136b10>,\n",
       " <matplotlib.lines.Line2D at 0x7f4757136cd0>,\n",
       " <matplotlib.lines.Line2D at 0x7f4757136e90>,\n",
       " <matplotlib.lines.Line2D at 0x7f475713a090>,\n",
       " <matplotlib.lines.Line2D at 0x7f475713a250>,\n",
       " <matplotlib.lines.Line2D at 0x7f475713a410>,\n",
       " <matplotlib.lines.Line2D at 0x7f475713a5d0>,\n",
       " <matplotlib.lines.Line2D at 0x7f475713a790>,\n",
       " <matplotlib.lines.Line2D at 0x7f475713a950>,\n",
       " <matplotlib.lines.Line2D at 0x7f475713ab10>,\n",
       " <matplotlib.lines.Line2D at 0x7f475713acd0>,\n",
       " <matplotlib.lines.Line2D at 0x7f475713ae90>,\n",
       " <matplotlib.lines.Line2D at 0x7f475713f090>,\n",
       " <matplotlib.lines.Line2D at 0x7f475713f250>,\n",
       " <matplotlib.lines.Line2D at 0x7f475713f410>,\n",
       " <matplotlib.lines.Line2D at 0x7f475713f5d0>,\n",
       " <matplotlib.lines.Line2D at 0x7f475713f790>,\n",
       " <matplotlib.lines.Line2D at 0x7f475713f950>,\n",
       " <matplotlib.lines.Line2D at 0x7f475713fb10>,\n",
       " <matplotlib.lines.Line2D at 0x7f475713fcd0>,\n",
       " <matplotlib.lines.Line2D at 0x7f475713fe90>,\n",
       " <matplotlib.lines.Line2D at 0x7f4757143090>,\n",
       " <matplotlib.lines.Line2D at 0x7f4757143250>,\n",
       " <matplotlib.lines.Line2D at 0x7f4757143410>,\n",
       " <matplotlib.lines.Line2D at 0x7f47571435d0>,\n",
       " <matplotlib.lines.Line2D at 0x7f4757143790>,\n",
       " <matplotlib.lines.Line2D at 0x7f4757143950>,\n",
       " <matplotlib.lines.Line2D at 0x7f4757143b10>,\n",
       " <matplotlib.lines.Line2D at 0x7f4757143cd0>,\n",
       " <matplotlib.lines.Line2D at 0x7f4757143e90>,\n",
       " <matplotlib.lines.Line2D at 0x7f4757147090>,\n",
       " <matplotlib.lines.Line2D at 0x7f4757147250>,\n",
       " <matplotlib.lines.Line2D at 0x7f4757147410>,\n",
       " <matplotlib.lines.Line2D at 0x7f47571475d0>,\n",
       " <matplotlib.lines.Line2D at 0x7f4757147790>,\n",
       " <matplotlib.lines.Line2D at 0x7f4757147950>,\n",
       " <matplotlib.lines.Line2D at 0x7f4757147b10>,\n",
       " <matplotlib.lines.Line2D at 0x7f4757147cd0>,\n",
       " <matplotlib.lines.Line2D at 0x7f4757147e90>,\n",
       " <matplotlib.lines.Line2D at 0x7f475714b090>,\n",
       " <matplotlib.lines.Line2D at 0x7f475714b250>,\n",
       " <matplotlib.lines.Line2D at 0x7f475714b410>,\n",
       " <matplotlib.lines.Line2D at 0x7f475714b5d0>,\n",
       " <matplotlib.lines.Line2D at 0x7f475714b790>,\n",
       " <matplotlib.lines.Line2D at 0x7f475714b950>,\n",
       " <matplotlib.lines.Line2D at 0x7f475714bb10>,\n",
       " <matplotlib.lines.Line2D at 0x7f475714bcd0>,\n",
       " <matplotlib.lines.Line2D at 0x7f475714be90>,\n",
       " <matplotlib.lines.Line2D at 0x7f475714f090>,\n",
       " <matplotlib.lines.Line2D at 0x7f475714f250>,\n",
       " <matplotlib.lines.Line2D at 0x7f475714f410>,\n",
       " <matplotlib.lines.Line2D at 0x7f475714f5d0>,\n",
       " <matplotlib.lines.Line2D at 0x7f475714f790>,\n",
       " <matplotlib.lines.Line2D at 0x7f475714f950>,\n",
       " <matplotlib.lines.Line2D at 0x7f475714fb10>,\n",
       " <matplotlib.lines.Line2D at 0x7f475714fcd0>,\n",
       " <matplotlib.lines.Line2D at 0x7f475714fe90>,\n",
       " <matplotlib.lines.Line2D at 0x7f4757153090>,\n",
       " <matplotlib.lines.Line2D at 0x7f4757153250>,\n",
       " <matplotlib.lines.Line2D at 0x7f4757153410>,\n",
       " <matplotlib.lines.Line2D at 0x7f47571535d0>,\n",
       " <matplotlib.lines.Line2D at 0x7f4757153790>,\n",
       " <matplotlib.lines.Line2D at 0x7f4757153950>,\n",
       " <matplotlib.lines.Line2D at 0x7f4757153b10>,\n",
       " <matplotlib.lines.Line2D at 0x7f4757153cd0>,\n",
       " <matplotlib.lines.Line2D at 0x7f4757153e90>,\n",
       " <matplotlib.lines.Line2D at 0x7f4757159090>,\n",
       " <matplotlib.lines.Line2D at 0x7f4757159250>,\n",
       " <matplotlib.lines.Line2D at 0x7f4757159410>,\n",
       " <matplotlib.lines.Line2D at 0x7f47571595d0>,\n",
       " <matplotlib.lines.Line2D at 0x7f4757159790>,\n",
       " <matplotlib.lines.Line2D at 0x7f4757159950>,\n",
       " <matplotlib.lines.Line2D at 0x7f4757159b10>,\n",
       " <matplotlib.lines.Line2D at 0x7f4757159cd0>,\n",
       " <matplotlib.lines.Line2D at 0x7f4757159e90>,\n",
       " <matplotlib.lines.Line2D at 0x7f475715d090>,\n",
       " <matplotlib.lines.Line2D at 0x7f475715d250>,\n",
       " <matplotlib.lines.Line2D at 0x7f475715d410>,\n",
       " <matplotlib.lines.Line2D at 0x7f475715d5d0>,\n",
       " <matplotlib.lines.Line2D at 0x7f475715d790>,\n",
       " <matplotlib.lines.Line2D at 0x7f475715d950>,\n",
       " <matplotlib.lines.Line2D at 0x7f475715db10>,\n",
       " <matplotlib.lines.Line2D at 0x7f475715dcd0>,\n",
       " <matplotlib.lines.Line2D at 0x7f475715de90>,\n",
       " <matplotlib.lines.Line2D at 0x7f4757161090>,\n",
       " <matplotlib.lines.Line2D at 0x7f4757161250>,\n",
       " <matplotlib.lines.Line2D at 0x7f4757161410>,\n",
       " <matplotlib.lines.Line2D at 0x7f47571615d0>,\n",
       " <matplotlib.lines.Line2D at 0x7f4757161790>,\n",
       " <matplotlib.lines.Line2D at 0x7f4757161950>,\n",
       " <matplotlib.lines.Line2D at 0x7f4757161b10>,\n",
       " <matplotlib.lines.Line2D at 0x7f4757161cd0>,\n",
       " <matplotlib.lines.Line2D at 0x7f4757161e90>,\n",
       " <matplotlib.lines.Line2D at 0x7f47570e5090>,\n",
       " <matplotlib.lines.Line2D at 0x7f47570e5250>,\n",
       " <matplotlib.lines.Line2D at 0x7f47570e5410>,\n",
       " <matplotlib.lines.Line2D at 0x7f47570e55d0>,\n",
       " <matplotlib.lines.Line2D at 0x7f47570e5790>,\n",
       " <matplotlib.lines.Line2D at 0x7f47570e5950>,\n",
       " <matplotlib.lines.Line2D at 0x7f47570e5b10>,\n",
       " <matplotlib.lines.Line2D at 0x7f47570e5cd0>,\n",
       " <matplotlib.lines.Line2D at 0x7f47570e5e90>,\n",
       " <matplotlib.lines.Line2D at 0x7f47570e9090>,\n",
       " <matplotlib.lines.Line2D at 0x7f47570e9250>,\n",
       " <matplotlib.lines.Line2D at 0x7f47570e9410>,\n",
       " <matplotlib.lines.Line2D at 0x7f47570e95d0>,\n",
       " <matplotlib.lines.Line2D at 0x7f47570e9790>,\n",
       " <matplotlib.lines.Line2D at 0x7f47570e9950>,\n",
       " <matplotlib.lines.Line2D at 0x7f47570e9b10>,\n",
       " <matplotlib.lines.Line2D at 0x7f47570e9cd0>,\n",
       " <matplotlib.lines.Line2D at 0x7f47570e9e90>,\n",
       " <matplotlib.lines.Line2D at 0x7f47570ee090>,\n",
       " <matplotlib.lines.Line2D at 0x7f47570ee250>,\n",
       " <matplotlib.lines.Line2D at 0x7f47570ee410>,\n",
       " <matplotlib.lines.Line2D at 0x7f47570ee5d0>,\n",
       " <matplotlib.lines.Line2D at 0x7f47570ee790>,\n",
       " <matplotlib.lines.Line2D at 0x7f47570ee950>,\n",
       " <matplotlib.lines.Line2D at 0x7f47570eeb10>,\n",
       " <matplotlib.lines.Line2D at 0x7f47570eecd0>,\n",
       " <matplotlib.lines.Line2D at 0x7f47570eee90>,\n",
       " <matplotlib.lines.Line2D at 0x7f47570f2090>,\n",
       " <matplotlib.lines.Line2D at 0x7f47570f2250>,\n",
       " <matplotlib.lines.Line2D at 0x7f47570f2410>,\n",
       " <matplotlib.lines.Line2D at 0x7f47570f25d0>,\n",
       " <matplotlib.lines.Line2D at 0x7f47570f2790>,\n",
       " <matplotlib.lines.Line2D at 0x7f47570f2950>,\n",
       " <matplotlib.lines.Line2D at 0x7f47570f2b10>,\n",
       " <matplotlib.lines.Line2D at 0x7f47570f2cd0>,\n",
       " <matplotlib.lines.Line2D at 0x7f47570f2e90>,\n",
       " <matplotlib.lines.Line2D at 0x7f47570f6090>,\n",
       " <matplotlib.lines.Line2D at 0x7f47570f6250>,\n",
       " <matplotlib.lines.Line2D at 0x7f47570f6410>,\n",
       " <matplotlib.lines.Line2D at 0x7f47570f65d0>,\n",
       " <matplotlib.lines.Line2D at 0x7f47570f6790>,\n",
       " <matplotlib.lines.Line2D at 0x7f47570f6950>,\n",
       " <matplotlib.lines.Line2D at 0x7f47570f6b10>,\n",
       " <matplotlib.lines.Line2D at 0x7f47570f6cd0>,\n",
       " <matplotlib.lines.Line2D at 0x7f47570f6e90>,\n",
       " <matplotlib.lines.Line2D at 0x7f47570fa090>,\n",
       " <matplotlib.lines.Line2D at 0x7f47570fa250>,\n",
       " <matplotlib.lines.Line2D at 0x7f47570fa410>,\n",
       " <matplotlib.lines.Line2D at 0x7f47570fa5d0>,\n",
       " <matplotlib.lines.Line2D at 0x7f47570fa790>,\n",
       " <matplotlib.lines.Line2D at 0x7f47570fa950>,\n",
       " <matplotlib.lines.Line2D at 0x7f47570fab10>,\n",
       " <matplotlib.lines.Line2D at 0x7f47570facd0>,\n",
       " <matplotlib.lines.Line2D at 0x7f47570fae90>,\n",
       " <matplotlib.lines.Line2D at 0x7f47570fe090>,\n",
       " <matplotlib.lines.Line2D at 0x7f47570fe250>,\n",
       " <matplotlib.lines.Line2D at 0x7f47570fe410>,\n",
       " <matplotlib.lines.Line2D at 0x7f47570fe5d0>,\n",
       " <matplotlib.lines.Line2D at 0x7f47570fe790>,\n",
       " <matplotlib.lines.Line2D at 0x7f47570fe950>,\n",
       " <matplotlib.lines.Line2D at 0x7f47570feb10>,\n",
       " <matplotlib.lines.Line2D at 0x7f47570fecd0>,\n",
       " <matplotlib.lines.Line2D at 0x7f47570fee90>,\n",
       " <matplotlib.lines.Line2D at 0x7f4757103090>,\n",
       " <matplotlib.lines.Line2D at 0x7f4757103250>,\n",
       " <matplotlib.lines.Line2D at 0x7f4757103410>,\n",
       " <matplotlib.lines.Line2D at 0x7f47571035d0>,\n",
       " <matplotlib.lines.Line2D at 0x7f4757103790>,\n",
       " <matplotlib.lines.Line2D at 0x7f4757103950>,\n",
       " <matplotlib.lines.Line2D at 0x7f4757103b10>,\n",
       " <matplotlib.lines.Line2D at 0x7f4757103cd0>,\n",
       " <matplotlib.lines.Line2D at 0x7f4757103e90>,\n",
       " <matplotlib.lines.Line2D at 0x7f4757108090>,\n",
       " <matplotlib.lines.Line2D at 0x7f4757108250>,\n",
       " <matplotlib.lines.Line2D at 0x7f4757108410>,\n",
       " <matplotlib.lines.Line2D at 0x7f47571085d0>,\n",
       " <matplotlib.lines.Line2D at 0x7f4757108790>,\n",
       " <matplotlib.lines.Line2D at 0x7f4757108950>,\n",
       " <matplotlib.lines.Line2D at 0x7f4757108b10>,\n",
       " <matplotlib.lines.Line2D at 0x7f4757108cd0>,\n",
       " <matplotlib.lines.Line2D at 0x7f4757108e90>,\n",
       " <matplotlib.lines.Line2D at 0x7f475710c090>,\n",
       " <matplotlib.lines.Line2D at 0x7f475710c250>,\n",
       " <matplotlib.lines.Line2D at 0x7f475710c410>,\n",
       " <matplotlib.lines.Line2D at 0x7f475710c5d0>,\n",
       " <matplotlib.lines.Line2D at 0x7f475710c790>,\n",
       " <matplotlib.lines.Line2D at 0x7f475710c950>,\n",
       " <matplotlib.lines.Line2D at 0x7f475710cb10>,\n",
       " <matplotlib.lines.Line2D at 0x7f475710ccd0>,\n",
       " <matplotlib.lines.Line2D at 0x7f475710ce90>,\n",
       " <matplotlib.lines.Line2D at 0x7f4757110090>,\n",
       " <matplotlib.lines.Line2D at 0x7f4757110250>,\n",
       " <matplotlib.lines.Line2D at 0x7f4757110410>,\n",
       " <matplotlib.lines.Line2D at 0x7f47571105d0>,\n",
       " <matplotlib.lines.Line2D at 0x7f4757110790>,\n",
       " <matplotlib.lines.Line2D at 0x7f4757110950>,\n",
       " <matplotlib.lines.Line2D at 0x7f4757110b10>,\n",
       " <matplotlib.lines.Line2D at 0x7f4757110cd0>,\n",
       " <matplotlib.lines.Line2D at 0x7f4757110e90>,\n",
       " <matplotlib.lines.Line2D at 0x7f4757114090>,\n",
       " <matplotlib.lines.Line2D at 0x7f4757114250>,\n",
       " <matplotlib.lines.Line2D at 0x7f4757114410>,\n",
       " <matplotlib.lines.Line2D at 0x7f47571145d0>,\n",
       " <matplotlib.lines.Line2D at 0x7f4757114790>,\n",
       " <matplotlib.lines.Line2D at 0x7f4757114950>,\n",
       " <matplotlib.lines.Line2D at 0x7f4757114b10>,\n",
       " <matplotlib.lines.Line2D at 0x7f4757114cd0>,\n",
       " <matplotlib.lines.Line2D at 0x7f4757114e90>,\n",
       " <matplotlib.lines.Line2D at 0x7f4757118090>,\n",
       " <matplotlib.lines.Line2D at 0x7f4757118250>,\n",
       " <matplotlib.lines.Line2D at 0x7f4757118410>,\n",
       " <matplotlib.lines.Line2D at 0x7f47571185d0>,\n",
       " <matplotlib.lines.Line2D at 0x7f4757118790>,\n",
       " <matplotlib.lines.Line2D at 0x7f4757118950>,\n",
       " <matplotlib.lines.Line2D at 0x7f4757118b10>,\n",
       " <matplotlib.lines.Line2D at 0x7f4757118cd0>,\n",
       " <matplotlib.lines.Line2D at 0x7f4757118e90>,\n",
       " <matplotlib.lines.Line2D at 0x7f475711c090>,\n",
       " <matplotlib.lines.Line2D at 0x7f475711c250>,\n",
       " <matplotlib.lines.Line2D at 0x7f475711c410>,\n",
       " <matplotlib.lines.Line2D at 0x7f475711c5d0>,\n",
       " <matplotlib.lines.Line2D at 0x7f475711c790>,\n",
       " <matplotlib.lines.Line2D at 0x7f475711c950>,\n",
       " <matplotlib.lines.Line2D at 0x7f475711cb10>,\n",
       " <matplotlib.lines.Line2D at 0x7f475711ccd0>,\n",
       " <matplotlib.lines.Line2D at 0x7f475711ce90>,\n",
       " <matplotlib.lines.Line2D at 0x7f4757121090>,\n",
       " <matplotlib.lines.Line2D at 0x7f4757121250>,\n",
       " <matplotlib.lines.Line2D at 0x7f4757121410>,\n",
       " <matplotlib.lines.Line2D at 0x7f47571215d0>,\n",
       " <matplotlib.lines.Line2D at 0x7f4757121790>,\n",
       " <matplotlib.lines.Line2D at 0x7f4757121950>,\n",
       " <matplotlib.lines.Line2D at 0x7f4757121b10>,\n",
       " <matplotlib.lines.Line2D at 0x7f4757121cd0>,\n",
       " <matplotlib.lines.Line2D at 0x7f4757121e90>,\n",
       " <matplotlib.lines.Line2D at 0x7f47570a5090>,\n",
       " <matplotlib.lines.Line2D at 0x7f47570a5250>,\n",
       " <matplotlib.lines.Line2D at 0x7f47570a5410>,\n",
       " <matplotlib.lines.Line2D at 0x7f47570a55d0>,\n",
       " <matplotlib.lines.Line2D at 0x7f47570a5790>,\n",
       " <matplotlib.lines.Line2D at 0x7f47570a5950>,\n",
       " <matplotlib.lines.Line2D at 0x7f47570a5b10>,\n",
       " <matplotlib.lines.Line2D at 0x7f47570a5cd0>,\n",
       " <matplotlib.lines.Line2D at 0x7f47570a5e90>,\n",
       " <matplotlib.lines.Line2D at 0x7f47570aa090>,\n",
       " <matplotlib.lines.Line2D at 0x7f47570aa250>,\n",
       " <matplotlib.lines.Line2D at 0x7f47570aa410>,\n",
       " <matplotlib.lines.Line2D at 0x7f47570aa5d0>,\n",
       " <matplotlib.lines.Line2D at 0x7f47570aa790>,\n",
       " <matplotlib.lines.Line2D at 0x7f47570aa950>,\n",
       " <matplotlib.lines.Line2D at 0x7f47570aab10>,\n",
       " <matplotlib.lines.Line2D at 0x7f47570aacd0>,\n",
       " <matplotlib.lines.Line2D at 0x7f47570aae90>,\n",
       " <matplotlib.lines.Line2D at 0x7f47570ad090>,\n",
       " <matplotlib.lines.Line2D at 0x7f47570ad250>,\n",
       " <matplotlib.lines.Line2D at 0x7f47570ad410>,\n",
       " <matplotlib.lines.Line2D at 0x7f47570ad5d0>,\n",
       " <matplotlib.lines.Line2D at 0x7f47570ad790>,\n",
       " <matplotlib.lines.Line2D at 0x7f47570ad950>,\n",
       " <matplotlib.lines.Line2D at 0x7f47570adb10>,\n",
       " <matplotlib.lines.Line2D at 0x7f47570adcd0>,\n",
       " <matplotlib.lines.Line2D at 0x7f47570ade90>,\n",
       " <matplotlib.lines.Line2D at 0x7f47570b1090>,\n",
       " <matplotlib.lines.Line2D at 0x7f47570b1250>,\n",
       " <matplotlib.lines.Line2D at 0x7f47570b1410>,\n",
       " <matplotlib.lines.Line2D at 0x7f47570b15d0>,\n",
       " <matplotlib.lines.Line2D at 0x7f47570b1790>,\n",
       " <matplotlib.lines.Line2D at 0x7f47570b1950>,\n",
       " <matplotlib.lines.Line2D at 0x7f47570b1b10>,\n",
       " <matplotlib.lines.Line2D at 0x7f47570b1cd0>,\n",
       " <matplotlib.lines.Line2D at 0x7f47570b1e90>,\n",
       " <matplotlib.lines.Line2D at 0x7f47570b6050>,\n",
       " <matplotlib.lines.Line2D at 0x7f47570b6250>,\n",
       " <matplotlib.lines.Line2D at 0x7f47570b6410>,\n",
       " <matplotlib.lines.Line2D at 0x7f47570b65d0>,\n",
       " <matplotlib.lines.Line2D at 0x7f47570b6790>,\n",
       " <matplotlib.lines.Line2D at 0x7f47570b6950>,\n",
       " <matplotlib.lines.Line2D at 0x7f47570b6b10>,\n",
       " <matplotlib.lines.Line2D at 0x7f47570b6cd0>,\n",
       " <matplotlib.lines.Line2D at 0x7f47570b6e90>,\n",
       " <matplotlib.lines.Line2D at 0x7f47570bb050>,\n",
       " <matplotlib.lines.Line2D at 0x7f47570bb250>,\n",
       " <matplotlib.lines.Line2D at 0x7f47570bb410>,\n",
       " <matplotlib.lines.Line2D at 0x7f47570bb5d0>,\n",
       " <matplotlib.lines.Line2D at 0x7f47570bb790>,\n",
       " <matplotlib.lines.Line2D at 0x7f47570bb950>,\n",
       " <matplotlib.lines.Line2D at 0x7f47570bbb10>,\n",
       " <matplotlib.lines.Line2D at 0x7f47570bbcd0>,\n",
       " <matplotlib.lines.Line2D at 0x7f47570bbe90>,\n",
       " <matplotlib.lines.Line2D at 0x7f47570be090>,\n",
       " <matplotlib.lines.Line2D at 0x7f47570be250>,\n",
       " <matplotlib.lines.Line2D at 0x7f47570be410>,\n",
       " <matplotlib.lines.Line2D at 0x7f47570be5d0>,\n",
       " <matplotlib.lines.Line2D at 0x7f47570be790>,\n",
       " <matplotlib.lines.Line2D at 0x7f47570be950>,\n",
       " <matplotlib.lines.Line2D at 0x7f47570beb10>,\n",
       " <matplotlib.lines.Line2D at 0x7f47570becd0>,\n",
       " <matplotlib.lines.Line2D at 0x7f47570bee90>,\n",
       " <matplotlib.lines.Line2D at 0x7f47570c2090>,\n",
       " <matplotlib.lines.Line2D at 0x7f47570c2250>,\n",
       " <matplotlib.lines.Line2D at 0x7f47570c2410>,\n",
       " <matplotlib.lines.Line2D at 0x7f47570c25d0>,\n",
       " <matplotlib.lines.Line2D at 0x7f47570c2790>,\n",
       " <matplotlib.lines.Line2D at 0x7f47570c2950>,\n",
       " <matplotlib.lines.Line2D at 0x7f47570c2b10>,\n",
       " <matplotlib.lines.Line2D at 0x7f47570c2cd0>,\n",
       " <matplotlib.lines.Line2D at 0x7f47570c2e90>,\n",
       " <matplotlib.lines.Line2D at 0x7f47570c6090>,\n",
       " <matplotlib.lines.Line2D at 0x7f47570c6250>,\n",
       " <matplotlib.lines.Line2D at 0x7f47570c6410>]"
      ]
     },
     "execution_count": 108,
     "metadata": {},
     "output_type": "execute_result"
    },
    {
     "data": {
      "image/png": "[encoded data removed]",
      "text/plain": [
       "<Figure size 432x288 with 1 Axes>"
      ]
     },
     "metadata": {
      "needs_background": "light"
     },
     "output_type": "display_data"
    }
   ],
   "source": [
    "plt.plot(xs, ys)"
   ]
  },
  {
   "cell_type": "code",
   "execution_count": 106,
   "metadata": {},
   "outputs": [],
   "source": [
    " x = np.arange(0, 5, 0.1)"
   ]
  },
  {
   "cell_type": "code",
   "execution_count": 107,
   "metadata": {},
   "outputs": [],
   "source": [
    "y = np.sin(x)"
   ]
  },
  {
   "cell_type": "code",
   "execution_count": 109,
   "metadata": {},
   "outputs": [
    {
     "data": {
      "text/plain": [
       "[<matplotlib.lines.Line2D at 0x7f47565be190>]"
      ]
     },
     "execution_count": 109,
     "metadata": {},
     "output_type": "execute_result"
    },
    {
     "data": {
      "image/png": "[encoded data removed]",
      "text/plain": [
       "<Figure size 432x288 with 1 Axes>"
      ]
     },
     "metadata": {
      "needs_background": "light"
     },
     "output_type": "display_data"
    }
   ],
   "source": [
    "plt.plot(x, y)"
   ]
  },
  {
   "cell_type": "code",
   "execution_count": 110,
   "metadata": {},
   "outputs": [],
   "source": [
    "a = np.array([1,3,5,7,9])"
   ]
  },
  {
   "cell_type": "code",
   "execution_count": 111,
   "metadata": {},
   "outputs": [],
   "source": [
    "b = np.array([2,4,6,8,10])"
   ]
  },
  {
   "cell_type": "code",
   "execution_count": 112,
   "metadata": {},
   "outputs": [],
   "source": [
    "z = np.array([True, False, True, True, False])"
   ]
  },
  {
   "cell_type": "code",
   "execution_count": 117,
   "metadata": {},
   "outputs": [],
   "source": [
    "result = np.where(z, a, b)"
   ]
  },
  {
   "cell_type": "code",
   "execution_count": 118,
   "metadata": {},
   "outputs": [
    {
     "data": {
      "text/plain": [
       "array([ 1,  4,  5,  7, 10])"
      ]
     },
     "execution_count": 118,
     "metadata": {},
     "output_type": "execute_result"
    }
   ],
   "source": [
    "result"
   ]
  },
  {
   "cell_type": "code",
   "execution_count": 2,
   "metadata": {},
   "outputs": [
    {
     "ename": "NameError",
     "evalue": "name 'togo' is not defined",
     "output_type": "error",
     "traceback": [
      "\u001b[0;31m---------------------------------------------------------------------------\u001b[0m",
      "\u001b[0;31mNameError\u001b[0m                                 Traceback (most recent call last)",
      "\u001b[0;32m<ipython-input-2-d950cdf7a072>\u001b[0m in \u001b[0;36m<module>\u001b[0;34m\u001b[0m\n\u001b[0;32m----> 1\u001b[0;31m \u001b[0mtogo\u001b[0m\u001b[0;34m(\u001b[0m\u001b[0;36m110\u001b[0m\u001b[0;34m)\u001b[0m\u001b[0;34m\u001b[0m\u001b[0;34m\u001b[0m\u001b[0m\n\u001b[0m",
      "\u001b[0;31mNameError\u001b[0m: name 'togo' is not defined"
     ]
    }
   ],
   "source": [
    "togo(110)"
   ]
  },
  {
   "cell_type": "code",
   "execution_count": 1,
   "metadata": {},
   "outputs": [
    {
     "name": "stdout",
     "output_type": "stream",
     "text": [
      "Object `togo` not found.\n"
     ]
    }
   ],
   "source": [
    "togo??\n"
   ]
  },
  {
   "cell_type": "code",
   "execution_count": 3,
   "metadata": {},
   "outputs": [],
   "source": [
    "def togo(pg):\n",
    "    goal =129\n",
    "    return goal - pg"
   ]
  },
  {
   "cell_type": "code",
   "execution_count": 4,
   "metadata": {},
   "outputs": [
    {
     "data": {
      "text/plain": [
       "17"
      ]
     },
     "execution_count": 4,
     "metadata": {},
     "output_type": "execute_result"
    }
   ],
   "source": [
    "togo(112)"
   ]
  },
  {
   "cell_type": "code",
   "execution_count": 5,
   "metadata": {},
   "outputs": [
    {
     "ename": "NameError",
     "evalue": "name 'np' is not defined",
     "output_type": "error",
     "traceback": [
      "\u001b[0;31m---------------------------------------------------------------------------\u001b[0m",
      "\u001b[0;31mNameError\u001b[0m                                 Traceback (most recent call last)",
      "\u001b[0;32m<ipython-input-5-910b3bbdce05>\u001b[0m in \u001b[0;36m<module>\u001b[0;34m\u001b[0m\n\u001b[0;32m----> 1\u001b[0;31m \u001b[0marr\u001b[0m \u001b[0;34m=\u001b[0m \u001b[0mnp\u001b[0m\u001b[0;34m.\u001b[0m\u001b[0mrandom\u001b[0m\u001b[0;34m.\u001b[0m\u001b[0mrandn\u001b[0m\u001b[0;34m(\u001b[0m\u001b[0;36m5\u001b[0m\u001b[0;34m,\u001b[0m\u001b[0;36m4\u001b[0m\u001b[0;34m)\u001b[0m\u001b[0;34m\u001b[0m\u001b[0;34m\u001b[0m\u001b[0m\n\u001b[0m",
      "\u001b[0;31mNameError\u001b[0m: name 'np' is not defined"
     ]
    }
   ],
   "source": [
    "arr = np.random.randn(5,4)"
   ]
  },
  {
   "cell_type": "code",
   "execution_count": 6,
   "metadata": {},
   "outputs": [],
   "source": [
    "import numpy as np"
   ]
  },
  {
   "cell_type": "code",
   "execution_count": 29,
   "metadata": {},
   "outputs": [],
   "source": [
    "arr = np.random.randn(5,4)"
   ]
  },
  {
   "cell_type": "code",
   "execution_count": 30,
   "metadata": {},
   "outputs": [
    {
     "data": {
      "text/plain": [
       "array([[ 0.85960989, -0.49129199,  0.91961712, -0.57604552],\n",
       "       [-1.55982019,  0.53349011, -0.5736273 , -1.2142164 ],\n",
       "       [ 1.22112583,  0.74303645,  0.32173297, -1.39828898],\n",
       "       [-0.24045377, -0.58158659, -1.13142471,  0.97704284],\n",
       "       [-1.51807576,  0.14126601,  0.64589033, -0.02273704]])"
      ]
     },
     "execution_count": 30,
     "metadata": {},
     "output_type": "execute_result"
    }
   ],
   "source": [
    "arr"
   ]
  },
  {
   "cell_type": "code",
   "execution_count": 31,
   "metadata": {},
   "outputs": [],
   "source": [
    "arr.sort()"
   ]
  },
  {
   "cell_type": "code",
   "execution_count": 32,
   "metadata": {},
   "outputs": [
    {
     "data": {
      "text/plain": [
       "array([[-0.57604552, -0.49129199,  0.85960989,  0.91961712],\n",
       "       [-1.55982019, -1.2142164 , -0.5736273 ,  0.53349011],\n",
       "       [-1.39828898,  0.32173297,  0.74303645,  1.22112583],\n",
       "       [-1.13142471, -0.58158659, -0.24045377,  0.97704284],\n",
       "       [-1.51807576, -0.02273704,  0.14126601,  0.64589033]])"
      ]
     },
     "execution_count": 32,
     "metadata": {},
     "output_type": "execute_result"
    }
   ],
   "source": [
    "arr"
   ]
  },
  {
   "cell_type": "code",
   "execution_count": 34,
   "metadata": {},
   "outputs": [
    {
     "data": {
      "text/plain": [
       "13"
      ]
     },
     "execution_count": 34,
     "metadata": {},
     "output_type": "execute_result"
    }
   ],
   "source": [
    "togo(116)"
   ]
  },
  {
   "cell_type": "code",
   "execution_count": 35,
   "metadata": {},
   "outputs": [],
   "source": [
    "x = np.array([[1,2,3],[4,5,6]])\n",
    "y = np.array([[7,10],[8,11],[9,12]])"
   ]
  },
  {
   "cell_type": "code",
   "execution_count": 36,
   "metadata": {},
   "outputs": [
    {
     "data": {
      "text/plain": [
       "array([[ 50,  68],\n",
       "       [122, 167]])"
      ]
     },
     "execution_count": 36,
     "metadata": {},
     "output_type": "execute_result"
    }
   ],
   "source": [
    "x.dot(y)"
   ]
  },
  {
   "cell_type": "code",
   "execution_count": 37,
   "metadata": {},
   "outputs": [
    {
     "data": {
      "text/plain": [
       "array([1., 1., 1.])"
      ]
     },
     "execution_count": 37,
     "metadata": {},
     "output_type": "execute_result"
    }
   ],
   "source": [
    "np.ones(3)"
   ]
  },
  {
   "cell_type": "code",
   "execution_count": 38,
   "metadata": {},
   "outputs": [
    {
     "data": {
      "text/plain": [
       "array([0., 0., 0., 0.])"
      ]
     },
     "execution_count": 38,
     "metadata": {},
     "output_type": "execute_result"
    }
   ],
   "source": [
    "np.zeros(4)"
   ]
  },
  {
   "cell_type": "code",
   "execution_count": 39,
   "metadata": {},
   "outputs": [],
   "source": [
    "from numpy.linalg import inv, qr"
   ]
  },
  {
   "cell_type": "code",
   "execution_count": 40,
   "metadata": {},
   "outputs": [],
   "source": [
    "x = np.array([[ 933.1189,871.8258,-1417.6902,-1460.4005,1782.1391],\n",
    "              [ 871.8258,815.3929,-1325.9965,-1365.9242,1666.9347],\n",
    "[-1417.6902, -1325.9965, 2158.4424,2222.0191,-2711.6822],\n",
    "[-1460.4005,-1365.9242,2222.0191,2289.0575,-2793.422],\n",
    "[1782.1391, 1666.9347,-2711.6822, -2793.422, 3409.5128]])"
   ]
  },
  {
   "cell_type": "code",
   "execution_count": 41,
   "metadata": {},
   "outputs": [
    {
     "data": {
      "text/plain": [
       "array([[  933.1189,   871.8258, -1417.6902, -1460.4005,  1782.1391],\n",
       "       [  871.8258,   815.3929, -1325.9965, -1365.9242,  1666.9347],\n",
       "       [-1417.6902, -1325.9965,  2158.4424,  2222.0191, -2711.6822],\n",
       "       [-1460.4005, -1365.9242,  2222.0191,  2289.0575, -2793.422 ],\n",
       "       [ 1782.1391,  1666.9347, -2711.6822, -2793.422 ,  3409.5128]])"
      ]
     },
     "execution_count": 41,
     "metadata": {},
     "output_type": "execute_result"
    }
   ],
   "source": [
    "x"
   ]
  },
  {
   "cell_type": "code",
   "execution_count": 42,
   "metadata": {},
   "outputs": [],
   "source": [
    "mat = x.T.dot(x)"
   ]
  },
  {
   "cell_type": "code",
   "execution_count": 43,
   "metadata": {},
   "outputs": [
    {
     "data": {
      "text/plain": [
       "array([[  8949426.00240795,   8369755.83278761, -13616546.79716253,\n",
       "        -14024917.25533558,  17116290.59381017],\n",
       "       [  8369755.83278761,   7827632.73913803, -12734580.90824817,\n",
       "        -13116500.37636913,  16007640.57905127],\n",
       "       [-13616546.79716253, -12734580.90824817,  20717575.0498677 ,\n",
       "         21338908.62492689, -26042432.75963301],\n",
       "       [-14024917.25533558, -13116500.37636913,  21338908.62492689,\n",
       "         21978878.12970095, -26823464.56535591],\n",
       "       [ 17116290.59381017,  16007640.57905127, -26042432.75963301,\n",
       "        -26823464.56535591,  32735895.42305758]])"
      ]
     },
     "execution_count": 43,
     "metadata": {},
     "output_type": "execute_result"
    }
   ],
   "source": [
    "mat"
   ]
  },
  {
   "cell_type": "code",
   "execution_count": 44,
   "metadata": {},
   "outputs": [
    {
     "data": {
      "text/plain": [
       "array([[ 2.85882757, -7.40287817, -0.29706789, -0.68930631,  1.3240553 ],\n",
       "       [-7.4028781 , 26.15965316,  0.25701042,  9.90782714, -0.59839774],\n",
       "       [-0.29706791,  0.25701048,  0.73071714, -1.77777336, -0.84573277],\n",
       "       [-0.68930614,  9.90782666, -1.77777339, 18.97353238,  9.64799532],\n",
       "       [ 1.32405539, -0.59839805, -0.84573277,  9.64799519,  6.83298076]])"
      ]
     },
     "execution_count": 44,
     "metadata": {},
     "output_type": "execute_result"
    }
   ],
   "source": [
    "inv(mat)"
   ]
  },
  {
   "cell_type": "code",
   "execution_count": 46,
   "metadata": {},
   "outputs": [
    {
     "data": {
      "text/plain": [
       "array([[ 1., -0.,  0., -0.,  0.],\n",
       "       [ 0.,  1.,  0., -0.,  0.],\n",
       "       [ 0.,  0.,  1.,  0., -0.],\n",
       "       [ 0., -0.,  0.,  1.,  0.],\n",
       "       [ 0.,  0.,  0.,  0.,  1.]])"
      ]
     },
     "execution_count": 46,
     "metadata": {},
     "output_type": "execute_result"
    }
   ],
   "source": [
    "mat.dot(inv(mat)).round()"
   ]
  },
  {
   "cell_type": "code",
   "execution_count": 47,
   "metadata": {},
   "outputs": [],
   "source": [
    "q,r = qr(mat)"
   ]
  },
  {
   "cell_type": "code",
   "execution_count": 48,
   "metadata": {},
   "outputs": [
    {
     "data": {
      "text/plain": [
       "array([[-0.31153728,  0.90607172,  0.0826303 ,  0.25071258,  0.1108783 ],\n",
       "       [-0.29135846,  0.1756679 , -0.14049003, -0.9284409 , -0.05011072],\n",
       "       [ 0.4740038 ,  0.2407503 , -0.84353116,  0.02826651, -0.07082287],\n",
       "       [ 0.48821953,  0.10654189,  0.22983254, -0.21143659,  0.80793693],\n",
       "       [-0.59583292, -0.28082547, -0.45723842,  0.17215188,  0.57220359]])"
      ]
     },
     "execution_count": 48,
     "metadata": {},
     "output_type": "execute_result"
    }
   ],
   "source": [
    "q"
   ]
  },
  {
   "cell_type": "code",
   "execution_count": 56,
   "metadata": {},
   "outputs": [
    {
     "data": {
      "text/plain": [
       "array([[-2.8726662e+07, -2.6865988e+07,  4.3707610e+07,  4.5018432e+07,\n",
       "        -5.4941399e+07],\n",
       "       [ 0.0000000e+00, -1.0000000e+00,  3.0000000e+00,  3.0000000e+00,\n",
       "        -4.0000000e+00],\n",
       "       [ 0.0000000e+00,  0.0000000e+00, -1.0000000e+00,  0.0000000e+00,\n",
       "        -0.0000000e+00],\n",
       "       [ 0.0000000e+00,  0.0000000e+00,  0.0000000e+00, -0.0000000e+00,\n",
       "         0.0000000e+00],\n",
       "       [ 0.0000000e+00,  0.0000000e+00,  0.0000000e+00,  0.0000000e+00,\n",
       "         0.0000000e+00]])"
      ]
     },
     "execution_count": 56,
     "metadata": {},
     "output_type": "execute_result"
    }
   ],
   "source": [
    "r.round()"
   ]
  },
  {
   "cell_type": "code",
   "execution_count": 57,
   "metadata": {},
   "outputs": [
    {
     "data": {
      "text/plain": [
       "array([[  8949426.00240796,   8369755.83278761, -13616546.79716253,\n",
       "        -14024917.25533557,  17116290.59381017],\n",
       "       [  8369755.83278761,   7827632.73913803, -12734580.90824817,\n",
       "        -13116500.37636912,  16007640.57905127],\n",
       "       [-13616546.79716253, -12734580.90824817,  20717575.0498677 ,\n",
       "         21338908.62492688, -26042432.75963301],\n",
       "       [-14024917.25533558, -13116500.37636913,  21338908.62492689,\n",
       "         21978878.12970094, -26823464.5653559 ],\n",
       "       [ 17116290.59381017,  16007640.57905127, -26042432.75963301,\n",
       "        -26823464.56535589,  32735895.42305757]])"
      ]
     },
     "execution_count": 57,
     "metadata": {},
     "output_type": "execute_result"
    }
   ],
   "source": [
    "q.dot(r)"
   ]
  },
  {
   "cell_type": "code",
   "execution_count": 58,
   "metadata": {},
   "outputs": [
    {
     "data": {
      "text/plain": [
       "array([[ 8.94942600e+06, -2.43425124e+07,  3.61157287e+06,\n",
       "         1.12866872e+07, -6.09180879e+06],\n",
       "       [-0.00000000e+00, -2.12516607e-01, -4.74896381e-01,\n",
       "        -2.68671846e+00,  1.91153573e-01],\n",
       "       [ 0.00000000e+00,  0.00000000e+00,  1.20689699e+00,\n",
       "         2.13507958e-04,  1.80365158e-02],\n",
       "       [ 0.00000000e+00,  0.00000000e+00,  0.00000000e+00,\n",
       "         1.79599383e-02,  1.17256547e-01],\n",
       "       [-0.00000000e+00, -0.00000000e+00, -0.00000000e+00,\n",
       "         0.00000000e+00,  4.79171474e-02]])"
      ]
     },
     "execution_count": 58,
     "metadata": {},
     "output_type": "execute_result"
    }
   ],
   "source": [
    "q*r"
   ]
  },
  {
   "cell_type": "code",
   "execution_count": 59,
   "metadata": {},
   "outputs": [
    {
     "data": {
      "text/plain": [
       "43"
      ]
     },
     "execution_count": 59,
     "metadata": {},
     "output_type": "execute_result"
    }
   ],
   "source": [
    "166-123"
   ]
  },
  {
   "cell_type": "code",
   "execution_count": 60,
   "metadata": {},
   "outputs": [
    {
     "data": {
      "text/plain": [
       "1"
      ]
     },
     "execution_count": 60,
     "metadata": {},
     "output_type": "execute_result"
    }
   ],
   "source": [
    "43//26"
   ]
  },
  {
   "cell_type": "code",
   "execution_count": 61,
   "metadata": {},
   "outputs": [
    {
     "data": {
      "text/plain": [
       "52"
      ]
     },
     "execution_count": 61,
     "metadata": {},
     "output_type": "execute_result"
    }
   ],
   "source": [
    "26*2"
   ]
  },
  {
   "cell_type": "code",
   "execution_count": 62,
   "metadata": {},
   "outputs": [
    {
     "data": {
      "text/plain": [
       "21.5"
      ]
     },
     "execution_count": 62,
     "metadata": {},
     "output_type": "execute_result"
    }
   ],
   "source": [
    "43/2"
   ]
  },
  {
   "cell_type": "code",
   "execution_count": 63,
   "metadata": {},
   "outputs": [
    {
     "data": {
      "text/plain": [
       "6"
      ]
     },
     "execution_count": 63,
     "metadata": {},
     "output_type": "execute_result"
    }
   ],
   "source": [
    "togo(123)"
   ]
  },
  {
   "cell_type": "code",
   "execution_count": null,
   "metadata": {},
   "outputs": [],
   "source": []
  },
  {
   "cell_type": "code",
   "execution_count": null,
   "metadata": {},
   "outputs": [],
   "source": []
  }
 ],
 "metadata": {
  "kernelspec": {
   "display_name": "Python 3",
   "language": "python",
   "name": "python3"
  },
  "language_info": {
   "codemirror_mode": {
    "name": "ipython",
    "version": 3
   },
   "file_extension": ".py",
   "mimetype": "text/x-python",
   "name": "python",
   "nbconvert_exporter": "python",
   "pygments_lexer": "ipython3",
   "version": "3.7.6"
  }
 },
 "nbformat": 4,
 "nbformat_minor": 4
}
